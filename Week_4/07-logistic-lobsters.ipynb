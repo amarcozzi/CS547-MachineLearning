{
 "cells": [
  {
   "cell_type": "markdown",
   "metadata": {},
   "source": [
    "# Lobsters Logistic Redux\n",
    "Let's return to the lobster problem, but this I'd like you to use logistic regression to find the solution.  First, the data:"
   ]
  },
  {
   "cell_type": "code",
   "execution_count": 2,
   "metadata": {},
   "outputs": [
    {
     "data": {
      "image/png": "[encoded data removed]",
      "text/plain": [
       "<Figure size 432x288 with 1 Axes>"
      ]
     },
     "metadata": {
      "needs_background": "light"
     },
     "output_type": "display_data"
    }
   ],
   "source": [
    "import numpy as np\n",
    "import matplotlib.pyplot as plt\n",
    "data = np.loadtxt('datasets/lobster_survive.dat',skiprows=1)\n",
    "X,Y = data.T\n",
    "X -= X.mean()\n",
    "X /= X.std()\n",
    "\n",
    "bins = np.unique(X)\n",
    "plt.hist(X[Y==0],bins,histtype='step',density=True,label='Died',color='blue')\n",
    "plt.hist(X[Y==1],bins,histtype='step',density=True,label='Survived',color='red')\n",
    "plt.legend()\n",
    "plt.show()"
   ]
  },
  {
   "cell_type": "code",
   "execution_count": 3,
   "metadata": {},
   "outputs": [
    {
     "name": "stdout",
     "output_type": "stream",
     "text": [
      "[[-1.95598033  0.        ]\n",
      " [-1.95598033  0.        ]\n",
      " [-1.95598033  0.        ]\n",
      " [-1.95598033  0.        ]\n",
      " [-1.95598033  0.        ]\n",
      " [-1.51484434  0.        ]\n",
      " [-1.51484434  0.        ]\n",
      " [-1.51484434  0.        ]\n",
      " [-1.51484434  0.        ]\n",
      " [-1.51484434  0.        ]\n",
      " [-1.51484434  0.        ]\n",
      " [-1.51484434  0.        ]\n",
      " [-1.51484434  0.        ]\n",
      " [-1.51484434  0.        ]\n",
      " [-1.51484434  1.        ]\n",
      " [-1.07370835  0.        ]\n",
      " [-1.07370835  0.        ]\n",
      " [-1.07370835  0.        ]\n",
      " [-1.07370835  0.        ]\n",
      " [-1.07370835  0.        ]\n",
      " [-1.07370835  0.        ]\n",
      " [-1.07370835  0.        ]\n",
      " [-1.07370835  0.        ]\n",
      " [-1.07370835  0.        ]\n",
      " [-1.07370835  0.        ]\n",
      " [-1.07370835  0.        ]\n",
      " [-1.07370835  0.        ]\n",
      " [-1.07370835  0.        ]\n",
      " [-1.07370835  0.        ]\n",
      " [-1.07370835  0.        ]\n",
      " [-1.07370835  0.        ]\n",
      " [-1.07370835  0.        ]\n",
      " [-1.07370835  0.        ]\n",
      " [-1.07370835  0.        ]\n",
      " [-1.07370835  1.        ]\n",
      " [-1.07370835  1.        ]\n",
      " [-1.07370835  1.        ]\n",
      " [-0.63257236  0.        ]\n",
      " [-0.63257236  0.        ]\n",
      " [-0.63257236  0.        ]\n",
      " [-0.63257236  0.        ]\n",
      " [-0.63257236  0.        ]\n",
      " [-0.63257236  0.        ]\n",
      " [-0.63257236  0.        ]\n",
      " [-0.63257236  0.        ]\n",
      " [-0.63257236  0.        ]\n",
      " [-0.63257236  0.        ]\n",
      " [-0.63257236  0.        ]\n",
      " [-0.63257236  0.        ]\n",
      " [-0.63257236  0.        ]\n",
      " [-0.63257236  0.        ]\n",
      " [-0.63257236  1.        ]\n",
      " [-0.63257236  1.        ]\n",
      " [-0.63257236  1.        ]\n",
      " [-0.63257236  1.        ]\n",
      " [-0.63257236  1.        ]\n",
      " [-0.63257236  1.        ]\n",
      " [-0.63257236  1.        ]\n",
      " [-0.19143637  0.        ]\n",
      " [-0.19143637  0.        ]\n",
      " [-0.19143637  0.        ]\n",
      " [-0.19143637  0.        ]\n",
      " [-0.19143637  0.        ]\n",
      " [-0.19143637  0.        ]\n",
      " [-0.19143637  0.        ]\n",
      " [-0.19143637  0.        ]\n",
      " [-0.19143637  0.        ]\n",
      " [-0.19143637  0.        ]\n",
      " [-0.19143637  1.        ]\n",
      " [-0.19143637  1.        ]\n",
      " [-0.19143637  1.        ]\n",
      " [-0.19143637  1.        ]\n",
      " [-0.19143637  1.        ]\n",
      " [-0.19143637  1.        ]\n",
      " [-0.19143637  1.        ]\n",
      " [-0.19143637  1.        ]\n",
      " [-0.19143637  1.        ]\n",
      " [-0.19143637  1.        ]\n",
      " [-0.19143637  1.        ]\n",
      " [-0.19143637  1.        ]\n",
      " [ 0.24969962  0.        ]\n",
      " [ 0.24969962  0.        ]\n",
      " [ 0.24969962  0.        ]\n",
      " [ 0.24969962  0.        ]\n",
      " [ 0.24969962  0.        ]\n",
      " [ 0.24969962  0.        ]\n",
      " [ 0.24969962  0.        ]\n",
      " [ 0.24969962  0.        ]\n",
      " [ 0.24969962  0.        ]\n",
      " [ 0.24969962  0.        ]\n",
      " [ 0.24969962  0.        ]\n",
      " [ 0.24969962  0.        ]\n",
      " [ 0.24969962  1.        ]\n",
      " [ 0.24969962  1.        ]\n",
      " [ 0.24969962  1.        ]\n",
      " [ 0.24969962  1.        ]\n",
      " [ 0.24969962  1.        ]\n",
      " [ 0.24969962  1.        ]\n",
      " [ 0.24969962  1.        ]\n",
      " [ 0.24969962  1.        ]\n",
      " [ 0.24969962  1.        ]\n",
      " [ 0.24969962  1.        ]\n",
      " [ 0.24969962  1.        ]\n",
      " [ 0.24969962  1.        ]\n",
      " [ 0.24969962  1.        ]\n",
      " [ 0.24969962  1.        ]\n",
      " [ 0.24969962  1.        ]\n",
      " [ 0.24969962  1.        ]\n",
      " [ 0.24969962  1.        ]\n",
      " [ 0.69083561  0.        ]\n",
      " [ 0.69083561  0.        ]\n",
      " [ 0.69083561  0.        ]\n",
      " [ 0.69083561  0.        ]\n",
      " [ 0.69083561  0.        ]\n",
      " [ 0.69083561  1.        ]\n",
      " [ 0.69083561  1.        ]\n",
      " [ 0.69083561  1.        ]\n",
      " [ 0.69083561  1.        ]\n",
      " [ 0.69083561  1.        ]\n",
      " [ 0.69083561  1.        ]\n",
      " [ 0.69083561  1.        ]\n",
      " [ 0.69083561  1.        ]\n",
      " [ 0.69083561  1.        ]\n",
      " [ 0.69083561  1.        ]\n",
      " [ 0.69083561  1.        ]\n",
      " [ 0.69083561  1.        ]\n",
      " [ 0.69083561  1.        ]\n",
      " [ 1.13197159  0.        ]\n",
      " [ 1.13197159  0.        ]\n",
      " [ 1.13197159  0.        ]\n",
      " [ 1.13197159  0.        ]\n",
      " [ 1.13197159  0.        ]\n",
      " [ 1.13197159  1.        ]\n",
      " [ 1.13197159  1.        ]\n",
      " [ 1.13197159  1.        ]\n",
      " [ 1.13197159  1.        ]\n",
      " [ 1.13197159  1.        ]\n",
      " [ 1.13197159  1.        ]\n",
      " [ 1.13197159  1.        ]\n",
      " [ 1.13197159  1.        ]\n",
      " [ 1.13197159  1.        ]\n",
      " [ 1.13197159  1.        ]\n",
      " [ 1.13197159  1.        ]\n",
      " [ 1.13197159  1.        ]\n",
      " [ 1.57310758  0.        ]\n",
      " [ 1.57310758  1.        ]\n",
      " [ 1.57310758  1.        ]\n",
      " [ 1.57310758  1.        ]\n",
      " [ 1.57310758  1.        ]\n",
      " [ 1.57310758  1.        ]\n",
      " [ 1.57310758  1.        ]\n",
      " [ 1.57310758  1.        ]\n",
      " [ 2.01424357  1.        ]\n",
      " [ 2.01424357  1.        ]\n",
      " [ 2.01424357  1.        ]\n",
      " [ 2.01424357  1.        ]\n",
      " [ 2.01424357  1.        ]\n",
      " [ 2.01424357  1.        ]\n",
      " [ 2.45537956  1.        ]]\n"
     ]
    }
   ],
   "source": [
    "print(data)"
   ]
  },
  {
   "cell_type": "markdown",
   "metadata": {},
   "source": [
    "We would still like to know\n",
    "$$\n",
    "P(\\text{Survive}=1|\\text{Length}=x),\n",
    "$$\n",
    "where $\\text{Survive}$ is a variable indicating whether the lobster survived or not, and $\\text{Length}$ is the length of the lobster ($x\\in\\mathcal{R}$).  \n",
    "\n",
    "In logistic regression, we will approach this directly by implementing logistic regression, where we model\n",
    "$$\n",
    "P(\\text{Survive}=1|\\text{Length}=x) = \\sigma(\\Phi \\mathbf{w}).\n",
    "$$\n",
    "First implement the logistic function\n",
    "$$\n",
    "\\sigma(z) = \\frac{1}{1 + \\mathrm{exp}(-z)}\n",
    "$$"
   ]
  },
  {
   "cell_type": "code",
   "execution_count": 7,
   "metadata": {},
   "outputs": [],
   "source": [
    "def sigmoid(z):\n",
    "    return 1/(1+np.exp(-z))"
   ]
  },
  {
   "cell_type": "markdown",
   "metadata": {},
   "source": [
    "Next, define the log-posterior function\n",
    "$$\n",
    "\\mathcal{L}(\\mathbf{w};\\mathbf{X}_{obs},\\mathbf{Y}_{obs}) = \\sum_{i=1}^m Y_{obs,i} \\ln \\sigma(\\Phi_i \\mathbf{w}) + (1-Y_{obs,i}) \\ln (1-\\sigma(\\Phi_i \\mathbf{w})) -\\lambda \\mathbf{w}^T \\mathbf{w} \n",
    "$$"
   ]
  },
  {
   "cell_type": "code",
   "execution_count": 5,
   "metadata": {},
   "outputs": [],
   "source": [
    "def Phi(X, d=1):\n",
    "    return_phi = np.ones((len(X),d+1))\n",
    "    for i in range(1,d+1):\n",
    "        return_phi[:,i] = np.power(X,i)\n",
    "    return return_phi\n",
    "\n",
    "def L(w,X,Y,lamda=0):\n",
    "    #sum term\n",
    "    phi = Phi(X)\n",
    "    sum_total = 0\n",
    "    for i in range(len(X)):\n",
    "        first_term = Y[i]*np.log(sigmoid(phi[i,:]@w))\n",
    "        second_term = (1-Y[i])*np.log(1-sigmoid(phi[i,:]@w))\n",
    "        third_term = lamda * np.transpose(w)@w\n",
    "        sum_total += first_term + second_term - third_term \n",
    "    return sum_total"
   ]
  },
  {
   "cell_type": "markdown",
   "metadata": {},
   "source": [
    "We currently lack the tools necessary to minimize this function elegantly, but we can attack it using brute force.  Make the assumption that \n",
    "$$\n",
    "Y_i = w_0 + w_1 X_{obs,i}.\n",
    "$$\n",
    "Using either a grid-search approach (check out numpy.meshgrid) or a random sampling approach, search for the values of $\\mathbf{w}$ that maximizes this likelihood function.  Plot all computed values of $\\mathcal{L}(\\mathbf{w})$ as a function of $\\mathbf{w}$.  Useful commands for this plotting if you take the grid search approach might be plt.contourf.  For the random sampling approach, you might try plt.scatter (using the c= keyword argument).\n"
   ]
  },
  {
   "cell_type": "code",
   "execution_count": 8,
   "metadata": {},
   "outputs": [],
   "source": [
    "w0_range = 10\n",
    "w1_range = 10\n",
    "num = 25\n",
    "\n",
    "L_array = np.ones((25,25))\n",
    "w0_vec = np.linspace(-1,1,num)\n",
    "w1_vec = np.linspace(0,2,num)\n",
    "\n",
    "for i in range(w0_vec.size):\n",
    "    for j in range(w1_vec.size):\n",
    "        L_array[i,j] = L([w0_vec[i],w1_vec[j]],X,Y)"
   ]
  },
  {
   "cell_type": "code",
   "execution_count": 9,
   "metadata": {},
   "outputs": [],
   "source": [
    "result = np.where(L_array == np.amax(L_array))\n",
    "indices = result[0][0],result[1][0]"
   ]
  },
  {
   "cell_type": "code",
   "execution_count": 10,
   "metadata": {},
   "outputs": [
    {
     "data": {
      "image/png": "[encoded data removed]",
      "text/plain": [
       "<Figure size 432x288 with 1 Axes>"
      ]
     },
     "metadata": {
      "needs_background": "light"
     },
     "output_type": "display_data"
    }
   ],
   "source": [
    "plt.contourf(w0_vec,w1_vec,L_array)\n",
    "plt.show()"
   ]
  },
  {
   "cell_type": "code",
   "execution_count": 11,
   "metadata": {},
   "outputs": [
    {
     "name": "stdout",
     "output_type": "stream",
     "text": [
      "0.0 1.3333333333333333\n"
     ]
    }
   ],
   "source": [
    "w0 = w0_vec[indices[0]]\n",
    "w1 = w1_vec[indices[1]]\n",
    "print(w0, w1)\n",
    "\n",
    "x = np.linspace(np.amin(X),np.amax(X),100)\n",
    "y = x.copy()\n",
    "\n",
    "for i in range(len(x)):\n",
    "    y[i] = sigmoid(w1 * x[i] + w0)"
   ]
  },
  {
   "cell_type": "code",
   "execution_count": 8,
   "metadata": {},
   "outputs": [
    {
     "data": {
      "image/png": "[encoded data removed]",
      "text/plain": [
       "<Figure size 432x288 with 1 Axes>"
      ]
     },
     "metadata": {
      "needs_background": "light"
     },
     "output_type": "display_data"
    }
   ],
   "source": [
    "plt.plot(x,y)\n",
    "plt.scatter(X,Y,c='r')\n",
    "plt.show()"
   ]
  },
  {
   "cell_type": "markdown",
   "metadata": {},
   "source": [
    "As a final bonus round, check out the matplotlib function plt.quiver, which is a useful command for plotting gradients (in 2D).  The gradient of the log-posterior function is \n",
    "$$\n",
    "\\nabla_\\mathbf{w} \\mathcal{L} = \\sum_{i=1}^m \\left[ (\\mathbf{Y}_{obs,i} - \\sigma(\\Phi_i \\mathbf{w})) \\Phi_i\\right] - \\lambda\\mathbf{w}^T. \n",
    "$$\n",
    "Use the quiver command to produce a plot visualizing the gradient of the log-posterior.  Given this information, can you determine a more efficient way than brute force to find the maximum value of $\\mathcal{L}(\\mathbf{w}$?"
   ]
  },
  {
   "cell_type": "code",
   "execution_count": 65,
   "metadata": {},
   "outputs": [],
   "source": [
    "#! use plt.quiver to visualize the gradients of the log-posterior."
   ]
  },
  {
   "cell_type": "code",
   "execution_count": 9,
   "metadata": {},
   "outputs": [],
   "source": [
    "phi = Phi(X)\n",
    "\n",
    "def L_grad_func(Y,w,lamda=0):\n",
    "    m = len(Y)\n",
    "    return_sum = 0\n",
    "    for i in range(m):\n",
    "        return_sum += (Y[i] - sigmoid(phi[i,:]@w))*phi[i,:]\n",
    "    return lamda*np.transpose(w) - return_sum\n",
    "\n",
    "L_grad = np.ones((25,25,2))\n",
    "\n",
    "for i in range(w0_vec.size):\n",
    "    for j in range(w1_vec.size):\n",
    "        L_grad[i,j,:] = L_grad_func(Y,[w0_vec[i],w1_vec[i]])"
   ]
  },
  {
   "cell_type": "code",
   "execution_count": 15,
   "metadata": {},
   "outputs": [
    {
     "data": {
      "image/png": "[encoded data removed]",
      "text/plain": [
       "<Figure size 432x288 with 1 Axes>"
      ]
     },
     "metadata": {
      "needs_background": "light"
     },
     "output_type": "display_data"
    }
   ],
   "source": [
    "plt.contourf(w0_vec,w1_vec,L_array.T)\n",
    "plt.quiver(w0_vec[::2],w1_vec[::2],L_grad[::2,::2,0],L_grad[::2,::2,1].T)\n",
    "plt.show()"
   ]
  },
  {
   "cell_type": "code",
   "execution_count": null,
   "metadata": {},
   "outputs": [],
   "source": []
  }
 ],
 "metadata": {
  "kernelspec": {
   "display_name": "Python 3 (ipykernel)",
   "language": "python",
   "name": "python3"
  },
  "language_info": {
   "codemirror_mode": {
    "name": "ipython",
    "version": 3
   },
   "file_extension": ".py",
   "mimetype": "text/x-python",
   "name": "python",
   "nbconvert_exporter": "python",
   "pygments_lexer": "ipython3",
   "version": "3.9.6"
  }
 },
 "nbformat": 4,
 "nbformat_minor": 2
}
