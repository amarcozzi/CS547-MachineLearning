{
 "cells": [
  {
   "cell_type": "markdown",
   "metadata": {},
   "source": [
    "# Gradient Descent\n",
    "\n",
    "If you successfully completed the previous notebook, you'll now have a good understanding that we can view the log-likelihood function as a landscape.  Unfortunately, it's the rare problem for which that landscape actually exists in 2-dimensions like our own physical topography.  Indeed, for machine learning this landscape often has thousands or millions of dimensions.  This precludes the possibility of finding optimal solutions through grid searches.\n",
    "\n",
    "The alternative to brute force is gradient descent.  Here we'll take the convention of trying to minimize a so-called *cost function*, which for our purposes is just -1 times the log-posterior we've been working with (for historical reasons, the machine learning literature tends to think of optimization problems in terms of minimizing a cost function, as opposed to maximizing a log-posterior, even though the two viewpoints are equivalen).  For the lobster problem, the cost function to minimize is \n",
    "$$\n",
    "\\mathcal{L}(\\mathbf{w};\\mathbf{X}_{obs},\\mathbf{Y}_{obs}) = -\\sum_{i=1}^m \\left[Y_{obs,i} \\ln \\sigma(\\Phi_i \\mathbf{w}) + (1-Y_{obs,i}) \\ln (1-\\sigma(\\Phi_i \\mathbf{w}))\\right] + \\lambda \\mathbf{w}^T \\mathbf{w}. \n",
    "$$\n",
    "The gradient of this function is \n",
    "$$\n",
    "\\nabla_\\mathbf{w} \\mathcal{L} = -\\sum_{i=1}^m \\left[ (Y_{obs,i} - \\sigma(\\Phi_i \\mathbf{w})) \\Phi_i\\right] + \\lambda\\mathbf{w}^T. \n",
    "$$\n",
    "Gradient descent is implemented by sequentially updating the model parameters as\n",
    "$$\n",
    "\\mathbf{w}_{t+1} = \\mathbf{w}_t - \\eta \\nabla_{\\mathbf{w}} \\mathcal{L}.\n",
    "$$\n",
    "**Return to the lobster problem, and attempt to find the optimal value of $\\mathbf{w}$ using gradient descent.  You'll have to select both a sensible initial guess for $\\mathbf{w}$, as well as a value of $\\eta$: too big, and it'll do some crazy things, too small and you won't get anywhere.  Because you've already solved this problem using grid search, you know the solution that you're trying to achieve.  Plot the trajectory of parameter values over the loss surface that you constructed for the brute force method (this is very helpful for debugging).**"
   ]
  },
  {
   "cell_type": "code",
   "execution_count": 59,
   "metadata": {},
   "outputs": [],
   "source": [
    "import numpy as np\n",
    "import matplotlib.pyplot as plt\n",
    "from mpl_toolkits import mplot3d\n",
    "data = np.loadtxt('datasets/lobster_survive.dat',skiprows=1)\n",
    "X,Y = data.T\n",
    "X -= X.mean()\n",
    "X /= X.std()"
   ]
  },
  {
   "cell_type": "code",
   "execution_count": 54,
   "metadata": {},
   "outputs": [],
   "source": [
    "def L(w,X,Y, phi, lamda=0):\n",
    "    sum_total = 0\n",
    "    for i in range(len(X)):\n",
    "        first_term = Y[i]*np.log(sigmoid(phi[i,:]@w))\n",
    "        second_term = (1-Y[i])*np.log(1-sigmoid(phi[i,:]@w))\n",
    "        sum_total += first_term + second_term\n",
    "    third_term = lamda * np.transpose(w)@w\n",
    "    return third_term + sum_total\n",
    "\n",
    "def sigmoid(z):\n",
    "    return 1/(1+np.exp(-z))\n",
    "\n",
    "def Phi(X, d=1):\n",
    "    return_phi = np.ones((len(X),d+1))\n",
    "    for i in range(1,d+1):\n",
    "        return_phi[:,i] = np.power(X,i)\n",
    "    return return_phi\n",
    "\n",
    "phi = Phi(X, d=2)\n",
    "\n",
    "def L_grad_func(Y,w,lamda=0):\n",
    "    m = len(Y)\n",
    "    return_sum = 0\n",
    "    for i in range(m):\n",
    "        return_sum += (Y[i] - sigmoid(phi[i,:]@w))*phi[i,:]\n",
    "    return lamda*np.transpose(w) - return_sum"
   ]
  },
  {
   "cell_type": "code",
   "execution_count": 55,
   "metadata": {},
   "outputs": [
    {
     "name": "stdout",
     "output_type": "stream",
     "text": [
      "[0.11111111111111116, 1.3333333333333333]\n"
     ]
    }
   ],
   "source": [
    "num = 10\n",
    "L_array = np.ones((num,num, num))\n",
    "w0_vec = np.linspace(-1,1,num)\n",
    "w1_vec = np.linspace(0,2,num)\n",
    "w2_vec = np.linspace(-1, 1, num)\n",
    "\n",
    "for i in range(w0_vec.size):\n",
    "    for j in range(w1_vec.size):\n",
    "        for k in range(w2_vec.size):\n",
    "            L_array[i,j,k] = L([w0_vec[i],w1_vec[j],w2_vec[k]],X,Y, phi)\n",
    "        \n",
    "result = np.where(L_array == np.amax(L_array))\n",
    "indices = result[0][0],result[1][0]\n",
    "w_grid = [w0_vec[indices[0]], w1_vec[indices[1]]]\n",
    "print(w_grid)"
   ]
  },
  {
   "cell_type": "code",
   "execution_count": 49,
   "metadata": {},
   "outputs": [
    {
     "ename": "ValueError",
     "evalue": "matmul: Input operand 1 has a mismatch in its core dimension 0, with gufunc signature (n?,k),(k,m?)->(n?,m?) (size 2 is different from 3)",
     "output_type": "error",
     "traceback": [
      "\u001b[0;31m---------------------------------------------------------------------------\u001b[0m",
      "\u001b[0;31mValueError\u001b[0m                                Traceback (most recent call last)",
      "\u001b[0;32m/var/folders/rk/jmwfy6gs5133_fvvr02b6t040000gn/T/ipykernel_8897/3279759930.py\u001b[0m in \u001b[0;36m<module>\u001b[0;34m\u001b[0m\n\u001b[1;32m     10\u001b[0m \u001b[0;32mwhile\u001b[0m \u001b[0mcurrent_tol\u001b[0m \u001b[0;34m>\u001b[0m \u001b[0mtol\u001b[0m \u001b[0;32mand\u001b[0m \u001b[0miters\u001b[0m \u001b[0;34m<\u001b[0m \u001b[0mmax_iters\u001b[0m\u001b[0;34m:\u001b[0m\u001b[0;34m\u001b[0m\u001b[0;34m\u001b[0m\u001b[0m\n\u001b[1;32m     11\u001b[0m     \u001b[0mw_curr\u001b[0m \u001b[0;34m=\u001b[0m \u001b[0mnp\u001b[0m\u001b[0;34m.\u001b[0m\u001b[0marray\u001b[0m\u001b[0;34m(\u001b[0m\u001b[0;34m[\u001b[0m\u001b[0mw0_1\u001b[0m\u001b[0;34m[\u001b[0m\u001b[0;34m-\u001b[0m\u001b[0;36m1\u001b[0m\u001b[0;34m]\u001b[0m\u001b[0;34m,\u001b[0m \u001b[0mw1_1\u001b[0m\u001b[0;34m[\u001b[0m\u001b[0;34m-\u001b[0m\u001b[0;36m1\u001b[0m\u001b[0;34m]\u001b[0m\u001b[0;34m]\u001b[0m\u001b[0;34m)\u001b[0m\u001b[0;34m\u001b[0m\u001b[0;34m\u001b[0m\u001b[0m\n\u001b[0;32m---> 12\u001b[0;31m     \u001b[0mw_new\u001b[0m \u001b[0;34m=\u001b[0m \u001b[0mw_curr\u001b[0m \u001b[0;34m-\u001b[0m \u001b[0meta\u001b[0m \u001b[0;34m*\u001b[0m \u001b[0mL_grad_func\u001b[0m\u001b[0;34m(\u001b[0m\u001b[0mY\u001b[0m\u001b[0;34m,\u001b[0m\u001b[0mw_curr\u001b[0m\u001b[0;34m)\u001b[0m\u001b[0;34m\u001b[0m\u001b[0;34m\u001b[0m\u001b[0m\n\u001b[0m\u001b[1;32m     13\u001b[0m     \u001b[0mw0_1\u001b[0m\u001b[0;34m.\u001b[0m\u001b[0mappend\u001b[0m\u001b[0;34m(\u001b[0m\u001b[0mw_new\u001b[0m\u001b[0;34m[\u001b[0m\u001b[0;36m0\u001b[0m\u001b[0;34m]\u001b[0m\u001b[0;34m)\u001b[0m\u001b[0;34m\u001b[0m\u001b[0;34m\u001b[0m\u001b[0m\n\u001b[1;32m     14\u001b[0m     \u001b[0mw1_1\u001b[0m\u001b[0;34m.\u001b[0m\u001b[0mappend\u001b[0m\u001b[0;34m(\u001b[0m\u001b[0mw_new\u001b[0m\u001b[0;34m[\u001b[0m\u001b[0;36m1\u001b[0m\u001b[0;34m]\u001b[0m\u001b[0;34m)\u001b[0m\u001b[0;34m\u001b[0m\u001b[0;34m\u001b[0m\u001b[0m\n",
      "\u001b[0;32m/var/folders/rk/jmwfy6gs5133_fvvr02b6t040000gn/T/ipykernel_8897/168284048.py\u001b[0m in \u001b[0;36mL_grad_func\u001b[0;34m(Y, w, lamda)\u001b[0m\n\u001b[1;32m     26\u001b[0m     \u001b[0mreturn_sum\u001b[0m \u001b[0;34m=\u001b[0m \u001b[0;36m0\u001b[0m\u001b[0;34m\u001b[0m\u001b[0;34m\u001b[0m\u001b[0m\n\u001b[1;32m     27\u001b[0m     \u001b[0;32mfor\u001b[0m \u001b[0mi\u001b[0m \u001b[0;32min\u001b[0m \u001b[0mrange\u001b[0m\u001b[0;34m(\u001b[0m\u001b[0mm\u001b[0m\u001b[0;34m)\u001b[0m\u001b[0;34m:\u001b[0m\u001b[0;34m\u001b[0m\u001b[0;34m\u001b[0m\u001b[0m\n\u001b[0;32m---> 28\u001b[0;31m         \u001b[0mreturn_sum\u001b[0m \u001b[0;34m+=\u001b[0m \u001b[0;34m(\u001b[0m\u001b[0mY\u001b[0m\u001b[0;34m[\u001b[0m\u001b[0mi\u001b[0m\u001b[0;34m]\u001b[0m \u001b[0;34m-\u001b[0m \u001b[0msigmoid\u001b[0m\u001b[0;34m(\u001b[0m\u001b[0mphi\u001b[0m\u001b[0;34m[\u001b[0m\u001b[0mi\u001b[0m\u001b[0;34m,\u001b[0m\u001b[0;34m:\u001b[0m\u001b[0;34m]\u001b[0m\u001b[0;34m@\u001b[0m\u001b[0mw\u001b[0m\u001b[0;34m)\u001b[0m\u001b[0;34m)\u001b[0m\u001b[0;34m*\u001b[0m\u001b[0mphi\u001b[0m\u001b[0;34m[\u001b[0m\u001b[0mi\u001b[0m\u001b[0;34m,\u001b[0m\u001b[0;34m:\u001b[0m\u001b[0;34m]\u001b[0m\u001b[0;34m\u001b[0m\u001b[0;34m\u001b[0m\u001b[0m\n\u001b[0m\u001b[1;32m     29\u001b[0m     \u001b[0;32mreturn\u001b[0m \u001b[0mlamda\u001b[0m\u001b[0;34m*\u001b[0m\u001b[0mnp\u001b[0m\u001b[0;34m.\u001b[0m\u001b[0mtranspose\u001b[0m\u001b[0;34m(\u001b[0m\u001b[0mw\u001b[0m\u001b[0;34m)\u001b[0m \u001b[0;34m-\u001b[0m \u001b[0mreturn_sum\u001b[0m\u001b[0;34m\u001b[0m\u001b[0;34m\u001b[0m\u001b[0m\n",
      "\u001b[0;31mValueError\u001b[0m: matmul: Input operand 1 has a mismatch in its core dimension 0, with gufunc signature (n?,k),(k,m?)->(n?,m?) (size 2 is different from 3)"
     ]
    }
   ],
   "source": [
    "tol = 1e-1\n",
    "eta = 1e-1\n",
    "max_iters = 100\n",
    "current_tol = 100\n",
    "iters = 0\n",
    "# w0 = [w_grid[0]]\n",
    "# w1 = [w_grid[1]]\n",
    "w0_1 = [-1]\n",
    "w1_1 = [0]\n",
    "while current_tol > tol and iters < max_iters:\n",
    "    w_curr = np.array([w0_1[-1], w1_1[-1]])\n",
    "    w_new = w_curr - eta * L_grad_func(Y,w_curr)\n",
    "    w0_1.append(w_new[0])\n",
    "    w1_1.append(w_new[1])\n",
    "    current_tol = np.sqrt((w_new[0]-w_curr[0])**2 + (w_new[1]-w_curr[1])**2)\n",
    "    iters += 1\n",
    "print([w0_1[-1], w1_1[-1]])\n",
    "\n",
    "# w0_2 = [1]\n",
    "# w1_2 = [2]\n",
    "# current_tol = 100\n",
    "# while current_tol > tol:\n",
    "#     w_curr = np.array([w0_2[-1], w1_2[-1]])\n",
    "#     w_new = w_curr - eta * L_grad_func(Y,w_curr)\n",
    "#     w0_2.append(w_new[0])\n",
    "#     w1_2.append(w_new[1])\n",
    "#     current_tol = np.sqrt((w_new[0]-w_curr[0])**2 + (w_new[1]-w_curr[1])**2)\n",
    "# print([w0_2[-1], w1_2[-1]])\n",
    "\n",
    "# w0_3 = [0]\n",
    "# w1_3 = [.25]\n",
    "# current_tol = 100\n",
    "# while current_tol > tol:\n",
    "#     w_curr = np.array([w0_3[-1], w1_3[-1]])\n",
    "#     w_new = w_curr - eta * L_grad_func(Y,w_curr)\n",
    "#     w0_3.append(w_new[0])\n",
    "#     w1_3.append(w_new[1])\n",
    "#     current_tol = np.sqrt((w_new[0]-w_curr[0])**2 + (w_new[1]-w_curr[1])**2)\n",
    "# print([w0_3[-1], w1_3[-1]])"
   ]
  },
  {
   "cell_type": "code",
   "execution_count": 34,
   "metadata": {},
   "outputs": [
    {
     "data": {
      "image/png": "[encoded data removed]",
      "text/plain": [
       "<Figure size 432x288 with 1 Axes>"
      ]
     },
     "metadata": {
      "needs_background": "light"
     },
     "output_type": "display_data"
    }
   ],
   "source": [
    "plt.contourf(w0_vec,w1_vec,L_array.T)\n",
    "plt.plot(w0_1, w1_1, c='r')\n",
    "# plt.scatter(w0_2, w1_2, c='b')\n",
    "# plt.scatter(w0_3, w1_3, c='purple')\n",
    "plt.xlabel('w0')\n",
    "plt.ylabel('w1')\n",
    "plt.show()"
   ]
  },
  {
   "cell_type": "code",
   "execution_count": null,
   "metadata": {},
   "outputs": [],
   "source": []
  }
 ],
 "metadata": {
  "kernelspec": {
   "display_name": "Python 3 (ipykernel)",
   "language": "python",
   "name": "python3"
  },
  "language_info": {
   "codemirror_mode": {
    "name": "ipython",
    "version": 3
   },
   "file_extension": ".py",
   "mimetype": "text/x-python",
   "name": "python",
   "nbconvert_exporter": "python",
   "pygments_lexer": "ipython3",
   "version": "3.9.6"
  }
 },
 "nbformat": 4,
 "nbformat_minor": 2
}
