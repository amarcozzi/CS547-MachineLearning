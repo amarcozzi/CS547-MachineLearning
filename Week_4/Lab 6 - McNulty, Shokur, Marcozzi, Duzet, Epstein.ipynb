{
 "cells": [
  {
   "cell_type": "markdown",
   "metadata": {},
   "source": [
    "Sean McNulty\n",
    "Eduard Shokur\n",
    "Courtney Duzet\n",
    "Margaret Epstein\n",
    "Anthony Marcozzi"
   ]
  },
  {
   "cell_type": "markdown",
   "metadata": {},
   "source": [
    "# Gradient Descent\n",
    "\n",
    "If you successfully completed the previous notebook, you'll now have a good understanding that we can view the log-likelihood function as a landscape.  Unfortunately, it's the rare problem for which that landscape actually exists in 2-dimensions like our own physical topography.  Indeed, for machine learning this landscape often has thousands or millions of dimensions.  This precludes the possibility of finding optimal solutions through grid searches.\n",
    "\n",
    "The alternative to brute force is gradient descent.  Here we'll take the convention of trying to minimize a so-called *cost function*, which for our purposes is just -1 times the log-posterior we've been working with (for historical reasons, the machine learning literature tends to think of optimization problems in terms of minimizing a cost function, as opposed to maximizing a log-posterior, even though the two viewpoints are equivalen).  For the lobster problem, the cost function to minimize is \n",
    "$$\n",
    "\\mathcal{L}(\\mathbf{w};\\mathbf{X}_{obs},\\mathbf{Y}_{obs}) = -\\sum_{i=1}^m \\left[Y_{obs,i} \\ln \\sigma(\\Phi_i \\mathbf{w}) + (1-Y_{obs,i}) \\ln (1-\\sigma(\\Phi_i \\mathbf{w}))\\right] + \\lambda \\mathbf{w}^T \\mathbf{w}. \n",
    "$$\n",
    "The gradient of this function is \n",
    "$$\n",
    "\\nabla_\\mathbf{w} \\mathcal{L} = -\\sum_{i=1}^m \\left[ (Y_{obs,i} - \\sigma(\\Phi_i \\mathbf{w})) \\Phi_i\\right] + \\lambda\\mathbf{w}^T. \n",
    "$$\n",
    "Gradient descent is implemented by sequentially updating the model parameters as\n",
    "$$\n",
    "\\mathbf{w}_{t+1} = \\mathbf{w}_t - \\eta \\nabla_{\\mathbf{w}} \\mathcal{L}.\n",
    "$$\n",
    "**Return to the lobster problem, and attempt to find the optimal value of $\\mathbf{w}$ using gradient descent.  You'll have to select both a sensible initial guess for $\\mathbf{w}$, as well as a value of $\\eta$: too big, and it'll do some crazy things, too small and you won't get anywhere.  Because you've already solved this problem using grid search, you know the solution that you're trying to achieve.  Plot the trajectory of parameter values over the loss surface that you constructed for the brute force method (this is very helpful for debugging).**"
   ]
  },
  {
   "cell_type": "code",
   "execution_count": 4,
   "metadata": {},
   "outputs": [],
   "source": [
    "import numpy as np\n",
    "import matplotlib.pyplot as plt\n",
    "data = np.loadtxt('datasets/lobster_survive.dat',skiprows=1)\n",
    "X,Y = data.T\n",
    "X -= X.mean()\n",
    "X /= X.std()"
   ]
  },
  {
   "cell_type": "code",
   "execution_count": 5,
   "metadata": {},
   "outputs": [],
   "source": [
    "def sigmoid(z):\n",
    "    return 1/(1+np.exp(-z))\n",
    "def Phi(X, d=1):\n",
    "    return_phi = np.ones((len(X),d+1))\n",
    "    for i in range(1,d+1):\n",
    "        return_phi[:,i] = np.power(X,i)\n",
    "    return return_phi\n",
    "phi = Phi(X)\n",
    "def L_grad_func(Y,w,lamda=0):\n",
    "    m = len(Y)\n",
    "    return_sum = 0\n",
    "    for i in range(m):\n",
    "        return_sum += (Y[i] - sigmoid(phi[i,:]@w))*phi[i,:]\n",
    "    return -return_sum+lamda*np.transpose(w)"
   ]
  },
  {
   "cell_type": "code",
   "execution_count": 35,
   "metadata": {},
   "outputs": [],
   "source": [
    "tol = 1e-5\n",
    "eta = 1e-2\n",
    "current_tol = 100\n",
    "\n",
    "#first guess\n",
    "w0_0 = [-.5]\n",
    "w1_0 = [.25]\n",
    "while current_tol > tol:\n",
    "    w_curr = [w0_0[-1],w1_0[-1]]\n",
    "    w_new = w_curr - eta * L_grad_func(Y,w_curr)\n",
    "    w0_0.append(w_new[0])\n",
    "    w1_0.append(w_new[1])\n",
    "    current_tol = np.sqrt((w_new[0]-w_curr[0])**2 + (w_new[1]-w_curr[1])**2)\n",
    "    \n",
    "#second guess\n",
    "current_tol = 100\n",
    "w0_1 = [.75]\n",
    "w1_1 = [.25]\n",
    "while current_tol > tol:\n",
    "    w_curr = [w0_1[-1],w1_1[-1]]\n",
    "    w_new = w_curr - eta * L_grad_func(Y,w_curr)\n",
    "    w0_1.append(w_new[0])\n",
    "    w1_1.append(w_new[1])\n",
    "    current_tol = np.sqrt((w_new[0]-w_curr[0])**2 + (w_new[1]-w_curr[1])**2)\n",
    "    \n",
    "#third guess\n",
    "current_tol = 100\n",
    "w0_2 = [.75]\n",
    "w1_2 = [1.75]\n",
    "while current_tol > tol:\n",
    "    w_curr = [w0_2[-1],w1_2[-1]]\n",
    "    w_new = w_curr - eta * L_grad_func(Y,w_curr)\n",
    "    w0_2.append(w_new[0])\n",
    "    w1_2.append(w_new[1])\n",
    "    current_tol = np.sqrt((w_new[0]-w_curr[0])**2 + (w_new[1]-w_curr[1])**2)"
   ]
  },
  {
   "cell_type": "markdown",
   "metadata": {},
   "source": [
    "#### Contour Plot"
   ]
  },
  {
   "cell_type": "code",
   "execution_count": 36,
   "metadata": {},
   "outputs": [],
   "source": [
    "#Stuff from lab 5 for contour plot\n",
    "def L(w,X,Y,lamda=0):\n",
    "    #sum term\n",
    "    phi = Phi(X)\n",
    "    sum_total = 0\n",
    "    for i in range(len(X)):\n",
    "        first_term = Y[i]*np.log(sigmoid(phi[i,:]@w))\n",
    "        second_term = (1-Y[i])*np.log(1-sigmoid(phi[i,:]@w))\n",
    "        third_term = lamda * np.transpose(w)@w\n",
    "        sum_total += first_term + second_term - third_term \n",
    "    return sum_total\n",
    "\n",
    "num = 25\n",
    "L_array = np.ones((25,25))\n",
    "w0_vec = np.linspace(-1,1,num)\n",
    "w1_vec = np.linspace(0,2,num)\n",
    "\n",
    "for i in range(w0_vec.size):\n",
    "    for j in range(w1_vec.size):\n",
    "        L_array[i,j] = L([w0_vec[i],w1_vec[j]],X,Y)"
   ]
  },
  {
   "cell_type": "code",
   "execution_count": 37,
   "metadata": {},
   "outputs": [
    {
     "data": {
      "text/plain": [
       "<matplotlib.collections.PathCollection at 0x7f713da78dc0>"
      ]
     },
     "execution_count": 37,
     "metadata": {},
     "output_type": "execute_result"
    },
    {
     "data": {
      "image/png": "[encoded data removed]",
      "text/plain": [
       "<Figure size 432x288 with 1 Axes>"
      ]
     },
     "metadata": {
      "needs_background": "light"
     },
     "output_type": "display_data"
    }
   ],
   "source": [
    "#plot convergences from guesses and contour map\n",
    "plt.contourf(w0_vec,w1_vec,L_array.T)\n",
    "\n",
    "plt.scatter(w0_0,w1_0,c='r')\n",
    "plt.scatter(w0_1,w1_1,c='g')\n",
    "plt.scatter(w0_2,w1_2,c='m')"
   ]
  }
 ],
 "metadata": {
  "kernelspec": {
   "display_name": "Python 3 (ipykernel)",
   "language": "python",
   "name": "python3"
  },
  "language_info": {
   "codemirror_mode": {
    "name": "ipython",
    "version": 3
   },
   "file_extension": ".py",
   "mimetype": "text/x-python",
   "name": "python",
   "nbconvert_exporter": "python",
   "pygments_lexer": "ipython3",
   "version": "3.9.6"
  }
 },
 "nbformat": 4,
 "nbformat_minor": 2
}
