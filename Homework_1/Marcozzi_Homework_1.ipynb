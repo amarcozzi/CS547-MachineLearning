{
 "cells": [
  {
   "cell_type": "markdown",
   "id": "5c824be2",
   "metadata": {},
   "source": [
    "# Problem 1: Legal Reasoning\n",
    "\n",
    "Suppose a crime has been committed and blood is found at the scene. This blood type is present in 1% of the population.\n",
    "\n",
    "The above scenario can be modeled with Baye's Thereom as \n",
    "\n",
    "$$P(C|B) = \\frac{P(B|C)P(C)}{P(B)}$$ \n",
    "\n",
    "where random variable $C$ represents whether an individual commited the crime, and random variable $B$ is whether or not an individual has this rare blood type.\n",
    "\n",
    "## Part 1\n",
    "\n",
    "The prosecution claims that \"there is a 1% chance that the defendant would have the crime blood type if he were innocent. Thus, there is a 99% chance that he is guilty.\"\n",
    "\n",
    "The prosecutor computed the likelihood term in Baye's theorem. Given that the accused is innocent, then there is a 1% chance of observing the crime blood type. $P(B=\\textrm{rare type} | C = \\textrm{innocent}) = 0.01$. Thus, taking $1 - 0.01 = 0.99$ the prosecutor concludes that the accused is likely guilty. \n",
    "\n",
    "However, the prosecutor has committed an error by going from the probability of observing a blood type given innocence, to the probability probability of being guilty given a blood type. If we establish that $P(B=\\textrm{rare type} | C = \\textrm{innocent}) = 0.01$, then we cannot say that $P(C = \\textrm{guilty} | B= \\textrm{rare type)} = 1 - 0.01$. \n",
    "\n",
    "This is apparent when we consider Baye's thereom as written above because $P(C = \\textrm{guilty} | B= \\textrm{rare type}) \\propto \\textrm{likelihood} \\times \\textrm{prior}$\n",
    "\n",
    "## Part 2\n",
    "\n",
    "The defendant claims that because the crime occured in a city of 800,000 people, then the blood type would be found in approximately 8,000 people. Thus, there is a $1/8000$ chance that the accused is guilty.\n",
    "\n",
    "In this case the defendant computed $P(C=\\textrm{guilty}|B=\\textrm{rare type}) = P(B=\\textrm{rare type}) = 1/8000$. We immediately see that this a violation of Baye's theorem because the defendant has ignored the likelihood and prior terms, and has only computed the normalization term in the denominator. "
   ]
  },
  {
   "cell_type": "markdown",
   "id": "0f3cf5ad",
   "metadata": {},
   "source": [
    "# Problem 2: Poisson Distribution MLE"
   ]
  },
  {
   "cell_type": "code",
   "execution_count": null,
   "id": "7db5914e",
   "metadata": {},
   "outputs": [],
   "source": []
  }
 ],
 "metadata": {
  "kernelspec": {
   "display_name": "PyCharm (CS547-ML)",
   "language": "python",
   "name": "pycharm-b6815a1a"
  },
  "language_info": {
   "codemirror_mode": {
    "name": "ipython",
    "version": 3
   },
   "file_extension": ".py",
   "mimetype": "text/x-python",
   "name": "python",
   "nbconvert_exporter": "python",
   "pygments_lexer": "ipython3",
   "version": "3.9.6"
  }
 },
 "nbformat": 4,
 "nbformat_minor": 5
}
