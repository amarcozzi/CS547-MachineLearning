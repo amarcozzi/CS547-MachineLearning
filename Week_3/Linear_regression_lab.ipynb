{
 "cells": [
  {
   "cell_type": "markdown",
   "metadata": {},
   "source": [
    "# Linear Regression Lab - 09/16\n",
    "\n",
    "## As in previous exercises, please generate a document with all group member names, complete the tasks below, and submit this on Moodle.  Due 09/21.\n"
   ]
  },
  {
   "cell_type": "markdown",
   "metadata": {},
   "source": [
    "<img src=\"cricket.jpg\" width=30%>\n",
    "For centuries, it's been understood that the frequency of cricket chirps increases as temperature increases.  In this problem, you will determine the functional relationship between these two variables such that cricket chirps can be used as a thermometer. \n",
    "\n",
    "To begin, import the data file cricket.txt.  The first column is the temperature in degrees C, while the second column is the number of cricket chirps per 15 seconds.  Using scikit-learn's model selection tools, we can split the data into a training set, which will be used to train the model, and a test set, which will be used to validate the model's performance on data that was *not* used to train it.  "
   ]
  },
  {
   "cell_type": "code",
   "execution_count": 5,
   "metadata": {},
   "outputs": [
    {
     "name": "stdout",
     "output_type": "stream",
     "text": [
      "[31.4  29.5  37.   44.   14.   36.2  33.1  26.1  46.4  28.75 43.6  27.7\n",
      " 31.3  37.1  32.4  17.5  12.5  23.5  29.   12.5  31.   27.7  23.66 36.2\n",
      " 35.   26.   30.2 ]\n",
      "(27,)\n",
      "[19.722  19.444  24.583  26.944  10.     21.111  21.667  17.222  25.833\n",
      " 18.889  25.556  18.333  20.556  22.5    21.111  13.611  12.778  15.\n",
      " 20.278   9.5833 20.     18.333  16.111  22.5    22.222  17.222  18.889 ]\n",
      "(27,)\n"
     ]
    }
   ],
   "source": [
    "import numpy as np\n",
    "data = np.loadtxt('crickets.txt')\n",
    "\n",
    "from sklearn.model_selection import train_test_split\n",
    "X_train, X_test, Y_train, Y_test = train_test_split(data[:,0], data[:,1], test_size=0.5, random_state=42)\n",
    "print(X_train)\n",
    "print(X_train.shape)\n",
    "print(Y_train)\n",
    "print(Y_train.shape)"
   ]
  },
  {
   "cell_type": "code",
   "execution_count": 12,
   "metadata": {},
   "outputs": [
    {
     "data": {
      "image/png": "[encoded data removed]",
      "text/plain": [
       "<Figure size 432x288 with 1 Axes>"
      ]
     },
     "metadata": {
      "needs_background": "light"
     },
     "output_type": "display_data"
    }
   ],
   "source": [
    "import matplotlib.pyplot as plt\n",
    "\n",
    "plt.scatter(X_train, Y_train)\n",
    "plt.scatter(X_test, Y_test)\n",
    "plt.xlabel('Temperature')\n",
    "plt.ylabel('Frequency of Chirps')\n",
    "plt.show()"
   ]
  },
  {
   "cell_type": "markdown",
   "metadata": {},
   "source": [
    "### 1. Ordinary Least Squares (20)\n",
    "Your first task is to define a function that will fit a polynomial of arbitrary degree to the data, subject to Tikhonov regularization.  To do this you will have to generate the Design matrix $\\Phi(X_{obs})$, and solve the normal equations \n",
    "$$\n",
    "(\\Phi^T \\Phi + \\lambda I) \\mathbf{w} = \\phi^T Y_{obs},\n",
    "$$\n",
    "where $\\mathbf{w}$ is the vector of polynomial coefficients.  Plot the data with the best-fitting polynomial of degree 1 (a line) overlain.  A handy fact is that if you would like to evaluate this model at some location (or set of locations) $X_{pred}$, the corresponding *prediction* $Y_{pred}$ is given by \n",
    "$$\n",
    "Y_{pred} = \\underbrace{\\Phi(X_{pred})}_{m\\times n} \\underbrace{\\mathbf{w}}_{n\\times 1}.\n",
    "$$\n",
    "As such, it might be helpful to define a function that computes $\\Phi(X)$ outside of fit\\_polynomial.  "
   ]
  },
  {
   "cell_type": "code",
   "execution_count": 11,
   "metadata": {},
   "outputs": [],
   "source": [
    "def fit_polynomial(X,Y,d,l=0):\n",
    "    \"\"\"  Find the ordinary least squares fit of an independent \n",
    "        variable X to a dependent variable y\"\"\"\n",
    "    Phi = None #!\n",
    "    w = None  #!\n",
    "      \n",
    "    return w\n",
    "\n",
    "\n",
    "\n",
    "w_line = fit_polynomial(X_train,Y_train,1)\n",
    "\n"
   ]
  },
  {
   "cell_type": "markdown",
   "metadata": {},
   "source": [
    "### 2. Overfitting (20)\n",
    "With the above function in hand, now we will explore the effect of fitting higher degree polynomials to the data.  Fit the training data using polynomials from degree 1 to 15, without regularization (i.e. $\\lambda=0$).  For each of these fits, record the resulting root mean square error \n",
    "$$\n",
    "RMSE = \\sqrt{\\sum_{i=1}^m (Y_{pred,i} - Y_{obs,i})^2}\n",
    "$$\n",
    "\n",
    "in both the training and test data.  Plot both of these RMSE values as a function of polynomial degree (Using a logarithmic scale for RMSE is helpful).  **In the lab document that you submit, describe the pattern that you see, and explain the reason behind the different behavior between the two curves.**  "
   ]
  },
  {
   "cell_type": "code",
   "execution_count": null,
   "metadata": {},
   "outputs": [],
   "source": [
    "train_rmse = []\n",
    "test_rmse = []\n",
    "degrees = np.linspace(1,15,15).astype(int)\n",
    "for d in degrees:\n",
    "    #! Use the function you generated above to fit \n",
    "    #! a polynomial of degree d to the cricket data\n",
    " \n",
    "    #! Compute and record RMSE for both the training and\n",
    "    #! test sets.  IMPORTANT: Don't fit a new set of \n",
    "    #! weights to the test set!!!\n",
    "\n",
    "#plt.semilogy(degrees,train_rmse)\n",
    "#plt.semilogy(degrees,test_rmse)\n",
    "#plt.show()"
   ]
  },
  {
   "cell_type": "markdown",
   "metadata": {},
   "source": [
    "### 3. Regularization(*) (20)\n",
    "Fix the polynomial degree at 15, and now fit the training data for regularization parameter $\\lambda \\in [10^{-9},10^2]$ (you'll want to distribute these points in log-space; see below).  As above, compute the RMSE in the training and test sets, and plot as a function of $\\lambda$.  **In the lab document that you submit, describe the pattern that you see, and explain the reason behind the different behavior between the two curves.**  "
   ]
  },
  {
   "cell_type": "code",
   "execution_count": null,
   "metadata": {},
   "outputs": [],
   "source": [
    "train_rmse = []\n",
    "test_rmse = []\n",
    "lamdas = np.logspace(-9,2,12)\n",
    "d = 15\n",
    "for lamda in lamdas:\n",
    "    #! Use the function you generated above to fit \n",
    "    #! a polynomial of degree 15 to the cricket data\n",
    "    #! with varying lambda \n",
    "    \n",
    "    #! Compute and record RMSE for both the training and\n",
    "    #! test sets.  IMPORTANT: Don't fit a new set of \n",
    "    #! weights to the test set!!!\n",
    "\n",
    "#plt.loglog(lamdas,train_rmse)\n",
    "#plt.loglog(lamdas,test_rmse)\n",
    "#plt.show()"
   ]
  }
 ],
 "metadata": {
  "kernelspec": {
   "display_name": "Python 3 (ipykernel)",
   "language": "python",
   "name": "python3"
  },
  "language_info": {
   "codemirror_mode": {
    "name": "ipython",
    "version": 3
   },
   "file_extension": ".py",
   "mimetype": "text/x-python",
   "name": "python",
   "nbconvert_exporter": "python",
   "pygments_lexer": "ipython3",
   "version": "3.9.6"
  }
 },
 "nbformat": 4,
 "nbformat_minor": 2
}
