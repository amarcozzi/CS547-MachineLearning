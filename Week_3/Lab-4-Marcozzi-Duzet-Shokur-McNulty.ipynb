{
 "cells": [
  {
   "cell_type": "markdown",
   "metadata": {},
   "source": [
    "# Lab Members:\n",
    "Anthony Marcozzi\n",
    "Ed Shokur\n",
    "Sean McNulty\n",
    "Courtnety Duzet"
   ]
  },
  {
   "cell_type": "markdown",
   "metadata": {},
   "source": [
    "# Linear Regression Lab - 09/16\n",
    "\n",
    "## As in previous exercises, please generate a document with all group member names, complete the tasks below, and submit this on Moodle.  Due 09/21.\n"
   ]
  },
  {
   "cell_type": "markdown",
   "metadata": {},
   "source": [
    "<img src=\"cricket.jpg\" width=30%>\n",
    "For centuries, it's been understood that the frequency of cricket chirps increases as temperature increases.  In this problem, you will determine the functional relationship between these two variables such that cricket chirps can be used as a thermometer. \n",
    "\n",
    "To begin, import the data file cricket.txt.  The first column is the temperature in degrees C, while the second column is the number of cricket chirps per 15 seconds.  Using scikit-learn's model selection tools, we can split the data into a training set, which will be used to train the model, and a test set, which will be used to validate the model's performance on data that was *not* used to train it.  "
   ]
  },
  {
   "cell_type": "code",
   "execution_count": 2,
   "metadata": {},
   "outputs": [
    {
     "data": {
      "image/png": "[encoded data removed]",
      "text/plain": [
       "<Figure size 432x288 with 1 Axes>"
      ]
     },
     "metadata": {
      "needs_background": "light"
     },
     "output_type": "display_data"
    },
    {
     "data": {
      "image/png": "[encoded data removed]",
      "text/plain": [
       "<Figure size 432x288 with 1 Axes>"
      ]
     },
     "metadata": {
      "needs_background": "light"
     },
     "output_type": "display_data"
    }
   ],
   "source": [
    "import numpy as np\n",
    "import matplotlib.pyplot as plt\n",
    "data = np.loadtxt('crickets.txt')\n",
    "\n",
    "X = data[:, 0]\n",
    "Y = data[:, 1]\n",
    "\n",
    "x_max = X.max()\n",
    "x_min = X.min()\n",
    "y_max = Y.max()\n",
    "y_min = Y.min()\n",
    "\n",
    "from sklearn.model_selection import train_test_split\n",
    "X_train, X_test, Y_train, Y_test = train_test_split(data[:,0], data[:,1], test_size=0.5, random_state=42)\n",
    "\n",
    "\n",
    "def normalize(arr):\n",
    "    return_arr = arr * (1/np.max(arr))\n",
    "    return return_arr\n",
    "\n",
    "norm_vals = [np.max(X_train),np.max(Y_train),np.max(X_test),np.max(Y_test)]\n",
    "\n",
    "fig1, ax1 = plt.subplots()\n",
    "ax1.scatter(X_train, Y_train)\n",
    "\n",
    "X_train = (X_train - x_min) / (x_max - x_min)\n",
    "Y_train = (Y_train - y_min) / (y_max - y_min)\n",
    "X_test = (X_test - x_min) / (x_max - x_min)\n",
    "Y_test = (Y_test - y_min) / (y_max - y_min)\n",
    "\n",
    "fig2, ax2 = plt.subplots()\n",
    "ax2.scatter(X_train, Y_train)\n",
    "plt.show()"
   ]
  },
  {
   "cell_type": "markdown",
   "metadata": {},
   "source": [
    "### 1. Ordinary Least Squares (20)\n",
    "Your first task is to define a function that will fit a polynomial of arbitrary degree to the data, subject to Tikhonov regularization.  To do this you will have to generate the Design matrix $\\Phi(X_{obs})$, and solve the normal equations \n",
    "$$\n",
    "(\\Phi^T \\Phi + \\lambda \\mathcal{I}) \\mathbf{w} = \\phi^T Y_{obs},\n",
    "$$\n",
    "where $\\mathbf{w}$ is the vector of polynomial coefficients.  Plot the data with the best-fitting polynomial of degree 1 (a line) overlain.  A handy fact is that if you would like to evaluate this model at some location (or set of locations) $X_{pred}$, the corresponding *prediction* $Y_{pred}$ is given by \n",
    "$$\n",
    "Y_{pred} = \\underbrace{\\Phi(X_{pred})}_{m\\times n} \\underbrace{\\mathbf{w}}_{n\\times 1}.\n",
    "$$\n",
    "As such, it might be helpful to define a function that computes $\\Phi(X)$ outside of fit\\_polynomial.  "
   ]
  },
  {
   "cell_type": "code",
   "execution_count": 3,
   "metadata": {},
   "outputs": [],
   "source": [
    "def phi(X, d):\n",
    "    return_phi = np.ones((len(X),d+1))\n",
    "    for i in range(1,d+1):\n",
    "        return_phi[:,i] = np.power(X,i)\n",
    "    return return_phi\n",
    "\n",
    "def fit_polynomial(X,Y,d,lamda=0):\n",
    "    \"\"\"  Find the ordinary least squares fit of an independent \n",
    "        variable X to a dependent variable y\"\"\"\n",
    "    Phi = phi(X,d)\n",
    "    Phi_T = np.transpose(Phi)\n",
    "    I = np.eye(d+1)\n",
    "    \n",
    "    num = Phi_T @ Y\n",
    "    #print(num)\n",
    "    den = (Phi_T @ Phi + lamda * I)\n",
    "    #print(den)\n",
    "    \n",
    "    w = num @ np.linalg.inv(den)\n",
    "      \n",
    "    return w\n",
    "\n",
    "w_line = fit_polynomial(X_train,Y_train,1)"
   ]
  },
  {
   "cell_type": "code",
   "execution_count": 4,
   "metadata": {},
   "outputs": [
    {
     "data": {
      "text/plain": [
       "array([0.06993189, 0.95774898])"
      ]
     },
     "execution_count": 4,
     "metadata": {},
     "output_type": "execute_result"
    }
   ],
   "source": [
    "fit_polynomial(X_train,Y_train,1)"
   ]
  },
  {
   "cell_type": "code",
   "execution_count": 5,
   "metadata": {},
   "outputs": [
    {
     "name": "stdout",
     "output_type": "stream",
     "text": [
      "[ 0.05021508  1.07633248 -0.12535315]\n"
     ]
    },
    {
     "data": {
      "image/png": "[encoded data removed]",
      "text/plain": [
       "<Figure size 432x288 with 1 Axes>"
      ]
     },
     "metadata": {
      "needs_background": "light"
     },
     "output_type": "display_data"
    }
   ],
   "source": [
    "w = fit_polynomial(X_train,Y_train,2)\n",
    "print(w)\n",
    "import matplotlib.pyplot as plt\n",
    "\n",
    "def compute_poly(X, w):\n",
    "    p = np.zeros(X.size)\n",
    "    for d in range(w.size):\n",
    "        p += w[d] * np.power(X,d)\n",
    "    return p\n",
    "\n",
    "plt.plot(np.sort(X_train),compute_poly(np.sort(X_train),w))\n",
    "plt.plot(X_train,Y_train,'.')\n",
    "plt.show()"
   ]
  },
  {
   "cell_type": "markdown",
   "metadata": {},
   "source": [
    "### 2. Overfitting (20)\n",
    "With the above function in hand, now we will explore the effect of fitting higher degree polynomials to the data.  Fit the training data using polynomials from degree 1 to 15, without regularization (i.e. $\\lambda=0$).  For each of these fits, record the resulting root mean square error \n",
    "$$\n",
    "RMSE = \\sqrt{\\sum_{i=1}^m (Y_{pred,i} - Y_{obs,i})^2}\n",
    "$$\n",
    "\n",
    "in both the training and test data.  Plot both of these RMSE values as a function of polynomial degree (Using a logarithmic scale for RMSE is helpful).  **In the lab document that you submit, describe the pattern that you see, and explain the reason behind the different behavior between the two curves.**  "
   ]
  },
  {
   "cell_type": "code",
   "execution_count": 6,
   "metadata": {
    "scrolled": true
   },
   "outputs": [
    {
     "data": {
      "image/png": "[encoded data removed]",
      "text/plain": [
       "<Figure size 432x288 with 1 Axes>"
      ]
     },
     "metadata": {
      "needs_background": "light"
     },
     "output_type": "display_data"
    }
   ],
   "source": [
    "def RMSE(obs,pred):\n",
    "    to_return = pred-obs\n",
    "    to_return *= to_return\n",
    "    to_return = np.sum(to_return)\n",
    "    return np.sqrt(to_return)\n",
    "\n",
    "train_rmse = []\n",
    "test_rmse = []\n",
    "degrees = np.linspace(1,15,15).astype(int)\n",
    "for d in degrees:\n",
    "    w = fit_polynomial(X_train,Y_train,d)\n",
    "    pred_train = compute_poly(X_train, w)\n",
    "    train_rmse.append(RMSE(Y_train,pred_train))\n",
    "    \n",
    "    pred_test = compute_poly(X_test,w)\n",
    "    test_rmse.append(RMSE(Y_test,pred_test))\n",
    "\n",
    "plt.semilogy(degrees,train_rmse)\n",
    "plt.semilogy(degrees,test_rmse)\n",
    "plt.xlabel('Polynomial Degree')\n",
    "plt.ylabel('RMSE')\n",
    "plt.legend(['Train', 'Test'])\n",
    "plt.show()"
   ]
  },
  {
   "cell_type": "markdown",
   "metadata": {},
   "source": [
    "### Analysis\n",
    "\n",
    "In the above plot we see a general downward trend in log RMSE up to polynomial degree 6. However, as the polynomial degree increases beyond 6, then there is substantial divergence between the Training and Test predictions. This suggests that we are seeing a patter of <i>overfitting</i> the training data with our model parameters. "
   ]
  },
  {
   "cell_type": "markdown",
   "metadata": {},
   "source": [
    "### 3. Regularization(*) (20)\n",
    "Fix the polynomial degree at 15, and now fit the training data for regularization parameter $\\lambda \\in [10^{-9},10^2]$ (you'll want to distribute these points in log-space; see below).  As above, compute the RMSE in the training and test sets, and plot as a function of $\\lambda$.  **In the lab document that you submit, describe the pattern that you see, and explain the reason behind the different behavior between the two curves.**  "
   ]
  },
  {
   "cell_type": "code",
   "execution_count": 8,
   "metadata": {},
   "outputs": [
    {
     "data": {
      "image/png": "[encoded data removed]",
      "text/plain": [
       "<Figure size 432x288 with 1 Axes>"
      ]
     },
     "metadata": {
      "needs_background": "light"
     },
     "output_type": "display_data"
    }
   ],
   "source": [
    "train_rmse = []\n",
    "test_rmse = []\n",
    "# lamdas = np.logspace(-9,2,12)\n",
    "lamdas = np.logspace(-12,8,40)\n",
    "d = 15\n",
    "for lamda in lamdas:\n",
    "    w = fit_polynomial(X_train,Y_train,d, lamda)\n",
    "    pred_train = compute_poly(X_train,w)\n",
    "    train_rmse.append(RMSE(Y_train,pred_train))\n",
    "    \n",
    "    pred_test = compute_poly(X_test,w)\n",
    "    test_rmse.append(RMSE(Y_test,pred_test))\n",
    "    \n",
    "    #! Use the function you generated above to fit \n",
    "    #! a polynomial of degree 15 to the cricket data\n",
    "    #! with varying lambda \n",
    "    \n",
    "    #! Compute and record RMSE for both the training and\n",
    "    #! test sets.  IMPORTANT: Don't fit a new set of \n",
    "    #! weights to the test set!!!\n",
    "\n",
    "plt.loglog(lamdas,train_rmse)\n",
    "plt.loglog(lamdas,test_rmse)\n",
    "plt.xlabel('Log Lambda')\n",
    "plt.ylabel('Log RMSE')\n",
    "plt.legend(['Train', 'Test'])\n",
    "plt.show()"
   ]
  },
  {
   "cell_type": "markdown",
   "metadata": {},
   "source": [
    "### Analysis\n",
    "Looking at the plot above, we initially observe a substantial gap in log RMSE between the Training and Test datasets. This corresponds to a low value of $\\lambda$, and thus to a higher training emphasis on our prior values. However, as we increase $\\lambda$, then we notice a general upward trend followed by an increased linear growth in RMSE. Eventually, the RMSE levels out to a constant value at around $\\lambda = 5$. This suggests that the regularization term is sufficiently large to predominate our priors and solely drive the parameter fit.\n",
    "\n",
    "Other way around. High lambda -> ignores data. Difference in the beginning is that small lambda is doing nothing to mitigate the effects of overfitting. Given our d=15 we've likely overfit our model, and thus our model does not egneralize to previously unseen data."
   ]
  },
  {
   "cell_type": "code",
   "execution_count": null,
   "metadata": {},
   "outputs": [],
   "source": []
  }
 ],
 "metadata": {
  "kernelspec": {
   "display_name": "Python 3 (ipykernel)",
   "language": "python",
   "name": "python3"
  },
  "language_info": {
   "codemirror_mode": {
    "name": "ipython",
    "version": 3
   },
   "file_extension": ".py",
   "mimetype": "text/x-python",
   "name": "python",
   "nbconvert_exporter": "python",
   "pygments_lexer": "ipython3",
   "version": "3.9.6"
  }
 },
 "nbformat": 4,
 "nbformat_minor": 2
}
