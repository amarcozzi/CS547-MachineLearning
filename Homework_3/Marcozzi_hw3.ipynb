{
 "cells": [
  {
   "cell_type": "code",
   "execution_count": 5,
   "id": "655f681b",
   "metadata": {},
   "outputs": [],
   "source": [
    "import tqdm\n",
    "import numpy as np\n",
    "import matplotlib.pyplot as plt\n",
    "from sklearn import model_selection\n",
    "from sklearn import datasets"
   ]
  },
  {
   "cell_type": "markdown",
   "id": "1b977380",
   "metadata": {},
   "source": [
    "# Problem 1\n",
    "Apply our double logistic regression approach to the Iris dataset. Since the model in our dataset only has 1 feature, I will run our model on the petal length feature of the dataset. Based on the histogram below, petal length seems to correlate well with class."
   ]
  },
  {
   "cell_type": "code",
   "execution_count": 2,
   "id": "9ae851fe",
   "metadata": {},
   "outputs": [],
   "source": [
    "#Load the dataset\n",
    "iris = datasets.load_iris()\n",
    "x = iris.data[:, 2]\n",
    "y = iris.target\n",
    "\n",
    "x_train, x_test, y_train, y_test = model_selection.train_test_split(x,y)\n",
    "y_train_class_1 = np.where(y_train == 0, 1, 0)\n",
    "y_train_class_2 = np.where(y_train == 1, 1, 0)\n",
    "y_test_class_1 = np.where(y_test == 0, 1, 0)\n",
    "y_test_class_2 = np.where(y_test == 1, 1, 0)"
   ]
  },
  {
   "cell_type": "code",
   "execution_count": 3,
   "id": "57e43cd3",
   "metadata": {},
   "outputs": [
    {
     "data": {
      "image/png": "[encoded data removed]",
      "text/plain": [
       "<Figure size 432x288 with 1 Axes>"
      ]
     },
     "metadata": {
      "needs_background": "light"
     },
     "output_type": "display_data"
    }
   ],
   "source": [
    "bins = np.unique(x)\n",
    "plt.hist(x[y==0],bins,histtype='step',density=False,label='Setosa',color='yellow')\n",
    "plt.hist(x[y==1],bins,histtype='step',density=False,label='Versicolor',color='purple')\n",
    "plt.hist(x[y==2],bins,histtype='step',density=False,label='Virginica',color='green')\n",
    "plt.legend()\n",
    "plt.title('Occurences by Petal Length')\n",
    "plt.xlabel('Petal Length (cm)')\n",
    "plt.ylabel('# Class Occurences')\n",
    "plt.show()"
   ]
  },
  {
   "cell_type": "code",
   "execution_count": 4,
   "id": "6ea48122",
   "metadata": {},
   "outputs": [],
   "source": [
    "def sigmoid(z):\n",
    "    return 1/(1+np.exp(-z))\n",
    "\n",
    "def Phi(X, d=1):\n",
    "    return_phi = np.ones((len(X),d+1))\n",
    "    for i in range(1,d+1):\n",
    "        return_phi[:,i] = np.power(X,i)\n",
    "    return return_phi\n",
    "\n",
    "def L_func(Y,phi,w,lamda=0):\n",
    "    #sum term\n",
    "    sum_total = 0\n",
    "    for i in range(len(Y)):\n",
    "        first_term = Y[i]*np.log(sigmoid(phi[i,:]@w))\n",
    "        second_term = (1-Y[i])*np.log(1-sigmoid(phi[i,:]@w))\n",
    "        third_term = lamda * np.transpose(w)@w\n",
    "        sum_total += first_term + second_term - third_term \n",
    "    return sum_total\n",
    "\n",
    "def L_grad_func(Y, w, phi, lamda=0):\n",
    "    m = len(Y)\n",
    "    return_sum = 0\n",
    "    for i in range(m):\n",
    "        return_sum += (Y[i] - sigmoid(phi[i,:]@w))*phi[i,:]\n",
    "    return -return_sum+lamda*np.transpose(w)\n",
    "\n",
    "def gradient_descent(Y, grad, L, phi, guess, eta=1e-3, tol=1e-6, pbar=None):\n",
    "    \"\"\"\n",
    "    grad - gradient function\n",
    "    w0 - initial guess (nx1 vector)\n",
    "    eta - step size\n",
    "    tol - convergence tolerance\n",
    "    \"\"\"\n",
    "    current_tol = 100\n",
    "    w_curr = guess\n",
    "    iters = 0\n",
    "    while current_tol > tol:\n",
    "        w_new = w_curr - eta * grad(Y, w_curr, phi)\n",
    "        current_tol = np.sqrt((w_new[0]-w_curr[0])**2 + (w_new[1]-w_curr[1])**2)\n",
    "        w_curr = w_new\n",
    "        iters += 1\n",
    "        if pbar is not None:\n",
    "            pbar.update(1)\n",
    "            if iters % 800 == 0:\n",
    "                pbar.set_description_str(f'Current tol: {current_tol}')\n",
    "    return w_curr[0], w_curr[1]"
   ]
  },
  {
   "cell_type": "code",
   "execution_count": 11,
   "id": "9c5c918d",
   "metadata": {},
   "outputs": [
    {
     "name": "stderr",
     "output_type": "stream",
     "text": [
      "Current tol: 0.00010111902633843459: 29355it [01:09, 422.13it/s]\n",
      "Current tol: 0.00021497271860350205: 1230it [01:09, 17.69it/s] \n",
      "Current tol: 2.432230616029664e-06: 1611218it [1:39:37, 269.52it/s]\n",
      "Current tol: 3.4852576934840984e-05: 1825it [07:56, 478.13it/s]s]"
     ]
    }
   ],
   "source": [
    "phi_train = Phi(x_train)\n",
    "w1 = np.random.random((2))\n",
    "w2 = np.random.random((2))\n",
    "\n",
    "tol_log1 = tqdm.tqdm(position=0)\n",
    "tol_log2 = tqdm.tqdm(position=0)\n",
    "\n",
    "# Apply gradient descent to find optimal weights for class logistic regressions 1 and 2\n",
    "w1 = gradient_descent(y_train_class_1, L_grad_func, L_func, phi_train, w1, 1e-3, 1e-5, tol_log1)\n",
    "w2 = gradient_descent(y_train_class_2, L_grad_func, L_func, phi_train, w2, 1e-3, 1e-5, tol_log2)"
   ]
  },
  {
   "cell_type": "code",
   "execution_count": 12,
   "id": "05b6e945",
   "metadata": {},
   "outputs": [
    {
     "name": "stdout",
     "output_type": "stream",
     "text": [
      "(20.86151857836392, -8.398638663093342) (-1.7955099244472579, 0.3054762337250111)\n"
     ]
    }
   ],
   "source": [
    "print(w1, w2)"
   ]
  },
  {
   "cell_type": "code",
   "execution_count": 13,
   "id": "ea12de15",
   "metadata": {},
   "outputs": [],
   "source": [
    "phi_test = Phi(x_test)"
   ]
  },
  {
   "cell_type": "code",
   "execution_count": 14,
   "id": "2e53ad52",
   "metadata": {},
   "outputs": [
    {
     "name": "stdout",
     "output_type": "stream",
     "text": [
      "Got 52.63% Correct\n"
     ]
    },
    {
     "name": "stderr",
     "output_type": "stream",
     "text": [
      "Current tol: 1.0002329614402784e-05: 355089it [08:13, 815.01it/s]"
     ]
    }
   ],
   "source": [
    "successes = 0\n",
    "for i in range(x_test.size):\n",
    "    class_1_pred = sigmoid(w1[1] * x_test[i] + w1[0])\n",
    "    class_2_pred = sigmoid(w2[1] * x_test[i] + w2[0])\n",
    "    class_3_pred = 1 - class_1_pred - class_2_pred\n",
    "    guesses = np.array([class_1_pred, class_2_pred, class_3_pred])\n",
    "    class_prediction = np.argmax(guesses)\n",
    "    if class_prediction == y_test[i]:\n",
    "        successes += 1\n",
    "print(f'Got {(successes / x_test.size)*100:.2f}% Correct')"
   ]
  },
  {
   "cell_type": "markdown",
   "id": "b3722af3",
   "metadata": {},
   "source": [
    "Not great, but it's better than guessing among the three class randomly. My best estimate was around 60% correct. Adding more features would likely improve this estimate."
   ]
  },
  {
   "cell_type": "markdown",
   "id": "f5d17590",
   "metadata": {},
   "source": [
    "# Problem 2: Backpropagation"
   ]
  },
  {
   "cell_type": "markdown",
   "id": "d68077cc",
   "metadata": {},
   "source": [
    "### Part A: Compute $\\frac{\\partial L}{\\partial w^{(2)}_2}$ Analytically"
   ]
  },
  {
   "cell_type": "code",
   "execution_count": 42,
   "id": "c324267e",
   "metadata": {},
   "outputs": [],
   "source": [
    "# Define model feature, output, and parameters\n",
    "x = 1.\n",
    "y = 0.5\n",
    "w_1_1 = 0.5\n",
    "w_2_1 = 0.7\n",
    "w_2_2 = -0.3\n",
    "w_3_1 = 0.1\n",
    "w_3_2 = -0.8\n",
    "\n",
    "def sigmoid(n):\n",
    "    return 1 / (1 + np.exp(-n))\n",
    "def sigmoid_prime(n):\n",
    "    return np.exp(n)/np.square(np.exp(n)+1)"
   ]
  },
  {
   "cell_type": "code",
   "execution_count": 43,
   "id": "f3b8598a",
   "metadata": {},
   "outputs": [],
   "source": [
    "# Compute hidden values\n",
    "a_1 = x * w_1_1\n",
    "z_1 = sigmoid(a_1)\n",
    "a_2_1 = z_1 * w_2_1\n",
    "a_2_2 = z_1 * w_2_2\n",
    "z_2_1 = sigmoid(a_2_1)\n",
    "z_2_2 = sigmoid(a_2_2)\n",
    "a_3 = z_2_1 * w_3_1 + z_2_2 * w_3_2\n",
    "z_3 = a_3\n",
    "L = 0.5 * (z_3 - y)**2"
   ]
  },
  {
   "cell_type": "code",
   "execution_count": 44,
   "id": "f5adc613",
   "metadata": {},
   "outputs": [
    {
     "name": "stdout",
     "output_type": "stream",
     "text": [
      "0.09898163577188604\n"
     ]
    }
   ],
   "source": [
    "# Compute dL/dw^2_2]\n",
    "derivative = (z_3 - y) * w_3_2 * sigmoid_prime(a_2_2) * z_1\n",
    "print(derivative)"
   ]
  },
  {
   "cell_type": "markdown",
   "id": "e51c9c99",
   "metadata": {},
   "source": [
    "### Part B: Compute $\\frac{\\partial L}{\\partial w^{(2)}_2}$ Numerically"
   ]
  },
  {
   "cell_type": "code",
   "execution_count": 48,
   "id": "304f3b74",
   "metadata": {},
   "outputs": [],
   "source": [
    "from scipy import optimize\n",
    "\n",
    "def L_func(w, x, y):\n",
    "    a_1 = x * w[0]\n",
    "    z_1 = sigmoid(a_1)\n",
    "    a_2_1 = z_1 * w[1]\n",
    "    a_2_2 = z_1 * w[2]\n",
    "    z_2_1 = sigmoid(a_2_1)\n",
    "    z_2_2 = sigmoid(a_2_2)\n",
    "    a_3 = z_2_1 * w[3] + z_2_2 * w[4]\n",
    "    z_3 = a_3\n",
    "    return 0.5 * (z_3 - y)**2"
   ]
  },
  {
   "cell_type": "code",
   "execution_count": 64,
   "id": "856e86e1",
   "metadata": {},
   "outputs": [],
   "source": [
    "w_vec = np.array([w_1_1, w_2_1, w_2_2, w_3_1, w_3_2])\n",
    "result = optimize.approx_fprime(w_vec, L_func, 1e-12, x, y)"
   ]
  },
  {
   "cell_type": "code",
   "execution_count": 65,
   "id": "2b5cd318",
   "metadata": {},
   "outputs": [
    {
     "name": "stdout",
     "output_type": "stream",
     "text": [
      "Derivative of L w.r.t w_1_1: -0.014267\n",
      "Derivative of L w.r.t w_2_1: -0.011935\n",
      "Derivative of L w.r.t w_2_2: 0.098979\n",
      "Derivative of L w.r.t w_3_1: -0.487108\n",
      "Derivative of L w.r.t w_3_2: -0.363662\n"
     ]
    }
   ],
   "source": [
    "print(f'Derivative of L w.r.t w_1_1: {result[0]:.6f}')\n",
    "print(f'Derivative of L w.r.t w_2_1: {result[1]:.6f}')\n",
    "print(f'Derivative of L w.r.t w_2_2: {result[2]:.6f}')\n",
    "print(f'Derivative of L w.r.t w_3_1: {result[3]:.6f}')\n",
    "print(f'Derivative of L w.r.t w_3_2: {result[4]:.6f}')"
   ]
  },
  {
   "cell_type": "code",
   "execution_count": null,
   "id": "f3c37c2d",
   "metadata": {},
   "outputs": [],
   "source": []
  }
 ],
 "metadata": {
  "kernelspec": {
   "display_name": "Python 3 (ipykernel)",
   "language": "python",
   "name": "python3"
  },
  "language_info": {
   "codemirror_mode": {
    "name": "ipython",
    "version": 3
   },
   "file_extension": ".py",
   "mimetype": "text/x-python",
   "name": "python",
   "nbconvert_exporter": "python",
   "pygments_lexer": "ipython3",
   "version": "3.7.9"
  }
 },
 "nbformat": 4,
 "nbformat_minor": 5
}
