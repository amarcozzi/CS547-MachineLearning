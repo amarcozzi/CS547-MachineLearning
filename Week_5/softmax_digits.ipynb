{
 "cells": [
  {
   "cell_type": "code",
   "execution_count": 81,
   "id": "c1ac1be5",
   "metadata": {},
   "outputs": [],
   "source": [
    "import tqdm\n",
    "import numpy as np\n",
    "import matplotlib.pyplot as plt"
   ]
  },
  {
   "cell_type": "markdown",
   "id": "compact-notice",
   "metadata": {},
   "source": [
    "# Softmax regression for handwritten digits\n",
    "\n",
    "Today, we'll implement a softmax classifier recognizing handwritten digits.  We'll begin by using a relatively small\n",
    "collection (around 1800) of low resolution (8 by 8pix) digits.  This can be easily acquired using scikit-learn."
   ]
  },
  {
   "cell_type": "code",
   "execution_count": 82,
   "id": "international-caution",
   "metadata": {},
   "outputs": [],
   "source": [
    "from sklearn.datasets import load_digits\n",
    "digits = load_digits()"
   ]
  },
  {
   "cell_type": "code",
   "execution_count": 83,
   "id": "84ad1adf",
   "metadata": {},
   "outputs": [
    {
     "data": {
      "text/plain": "<Figure size 432x288 with 2 Axes>",
      "image/png": "[encoded data removed]"
     },
     "metadata": {
      "needs_background": "light"
     },
     "output_type": "display_data"
    }
   ],
   "source": [
    "data = digits.data\n",
    "random_digit = np.random.randint(low=0, high=1797, size=1)[0]\n",
    "plt.imshow(data[random_digit, :].reshape(8, 8), cmap='Greys')\n",
    "plt.colorbar()\n",
    "plt.title(f'Target: {digits.target[random_digit]}')\n",
    "plt.show()"
   ]
  },
  {
   "cell_type": "markdown",
   "id": "seven-gnome",
   "metadata": {},
   "source": [
    "The digits appear as an $m\\times n$ array, where $m$ is the number of data instances and $n$ is the number of features.\n",
    "It's important to recognize that for this problem, the number of features is $8\\times8 = 64$: the instances are\n",
    "flattened.  If you want to plot a digit from the dataset using, for example, matplotlib's imshow, you'll need to reshape\n",
    "this.\n",
    "\n",
    "You'll also want to be careful to normalize the data, preferably by subtracting the mean and dividing by the standard\n",
    "deviation."
   ]
  },
  {
   "cell_type": "code",
   "execution_count": 84,
   "id": "rotary-whole",
   "metadata": {},
   "outputs": [
    {
     "data": {
      "text/plain": "<Figure size 432x288 with 2 Axes>",
      "image/png": "[encoded data removed]"
     },
     "metadata": {
      "needs_background": "light"
     },
     "output_type": "display_data"
    }
   ],
   "source": [
    "#! Perform normalization\n",
    "norm_data = ((data - data.mean()) / data.std()) + data.min()\n",
    "plt.imshow(norm_data[random_digit, :].reshape(8, 8), cmap='Greys')\n",
    "plt.colorbar()\n",
    "plt.title(f'Target: {digits.target[random_digit]}')\n",
    "plt.show()"
   ]
  },
  {
   "cell_type": "markdown",
   "id": "vocal-anthony",
   "metadata": {},
   "source": [
    "The labels appear as integers.  Write and apply a function that converts from this integer representation to a one-hot\n",
    "encoding."
   ]
  },
  {
   "cell_type": "code",
   "execution_count": 85,
   "id": "vietnamese-thesis",
   "metadata": {},
   "outputs": [],
   "source": [
    "#! Convert the labels to a one-hot encoding\n",
    "# Create an 1797 x 10 array to hold each digit's encoding\n",
    "encoding = np.zeros([digits.target.size, digits.target_names.size])\n",
    "\n",
    "# Loop over each image\n",
    "for i in range(digits.target.size):\n",
    "    encode_vec = np.zeros(digits.target_names.size)\n",
    "    t = digits.target[i]\n",
    "    encode_vec[digits.target_names[t]] = 1\n",
    "    encoding[i] = encode_vec\n"
   ]
  },
  {
   "cell_type": "markdown",
   "id": "nearby-wellington",
   "metadata": {},
   "source": [
    "Another important step is to split the dataset into training and testing sets.\n",
    "I like using the function sklearn.model_selection.train_test_split"
   ]
  },
  {
   "cell_type": "code",
   "execution_count": 86,
   "id": "systematic-camel",
   "metadata": {},
   "outputs": [],
   "source": [
    "#! Split the dataset into training and testing sets\n",
    "from sklearn.model_selection import train_test_split\n",
    "X_train, X_test, Y_train, Y_test = train_test_split(norm_data, encoding, test_size=0.25, random_state=42)"
   ]
  },
  {
   "cell_type": "markdown",
   "id": "dress-climate",
   "metadata": {},
   "source": [
    "With data in hand, we now need to implement the model.  Recall that our predictions will be computed as\n",
    "\n",
    "$$Y_{pred} = \\mathrm{Softmax}(\\Phi W)$$\n",
    "\n",
    "Implement the softmax method, generate the matrix $\\Phi$ (I suggest a linear model, which is to say that all you need to\n",
    "do will be to prepend a column of ones to the $m\\times n$ matrix of pixel values, and instantiate the parameter matrix\n",
    "$W$ (I suggest instantiating to an array of very small random numbers).  Your implementation of Softmax should be\n",
    "vectorized, in that it should take a $m \\times N$ array of logits and output and $m \\times N$ array without using a\n",
    "loop.  Make a prediction using this untrained model: a sensible result at this stage is that all classes are\n",
    "approximately equally likely."
   ]
  },
  {
   "cell_type": "code",
   "execution_count": 87,
   "id": "rental-capital",
   "metadata": {},
   "outputs": [],
   "source": [
    "def generate_phi(X, d=1):\n",
    "    phi_matrix = np.column_stack([np.ones(X.shape[0]), X])\n",
    "    return phi_matrix\n",
    "\n",
    "phi = generate_phi(X_train)\n",
    "w = np.random.random([phi.shape[1], digits.target_names.size]) * 1e-8\n",
    "\n",
    "def z_func(phi_array, w_array):\n",
    "    return phi_array @ w_array\n",
    "\n",
    "def softmax(phi_a, w_a):\n",
    "    z = z_func(phi_a, w_a)\n",
    "    numerator = np.exp(z)\n",
    "    denominator = np.sum(np.exp(z), axis=1)\n",
    "    for k in range(numerator.shape[1]):\n",
    "        numerator[:, k] /= denominator\n",
    "    return numerator\n",
    "\n",
    "Y_pred = softmax(phi, w)\n",
    "test = np.sum(Y_pred, axis=1)"
   ]
  },
  {
   "cell_type": "markdown",
   "id": "raising-effectiveness",
   "metadata": {},
   "source": [
    "Now generate functions (or one function with multiple outputs) to compute the categorical cross entropy and its\n",
    "gradient.  These are given by\n",
    "\n",
    "$$\\mathcal{L}(W,\\Phi,Y_{obs}) = -\\frac{1}{mN} \\sum_{i=1}^m \\left(Y_{obs,i} \\ln \\mathrm{Softmax}(\\Phi W)\\right).$$\n",
    "\n",
    "and\n",
    "\n",
    "$$\\frac{ \\partial \\mathcal{L}}{\\partial W} = -\\frac{1}{mN} \\sum_{i=1}^m \\left[(Y_{obs,i} - \\mathrm{Softmax}(\\Phi W)_i) \\Phi_i^T\\right]^T. $$\n",
    "\n",
    "As you implement these functions, consider how to do so in as efficient a manner as possible.\n",
    "Note that it is possible to vectorize the sums."
   ]
  },
  {
   "cell_type": "code",
   "execution_count": 88,
   "id": "mighty-czech",
   "metadata": {},
   "outputs": [],
   "source": [
    "def L_func(Y_obs, phi_f, w_f):\n",
    "    inside = np.sum(Y_obs * np.log(softmax(phi_f, w_f)), axis=0)\n",
    "    return -inside / Y_obs.shape[0] / Y_obs.shape[1]\n",
    "\n",
    "def L_grad(Y_obs, phi_f, w_f):\n",
    "    S = softmax(phi_f, w_f)\n",
    "    first = np.transpose(Y_obs - S)\n",
    "    return -np.transpose(first @ phi_f) / Y_obs.shape[0] / Y_obs.shape[1]\n",
    "\n",
    "L = L_func(Y_train, phi, w)\n",
    "lgrad = L_grad(Y_train, phi, w)"
   ]
  },
  {
   "cell_type": "markdown",
   "id": "selective-minority",
   "metadata": {},
   "source": [
    "Implement gradient descent and train this model.  Record the value of $\\mathcal{L}$ as a function of gradient descent\n",
    "iteration, and produce a plot convincing yourself that the model is converging to a minimum."
   ]
  },
  {
   "cell_type": "code",
   "execution_count": 107,
   "id": "premium-filing",
   "metadata": {},
   "outputs": [
    {
     "name": "stderr",
     "output_type": "stream",
     "text": [
      "Current tol: 9.999801088780182e-05: 43987it [01:47, 407.89it/s]\n"
     ]
    }
   ],
   "source": [
    "def gradient_descent(grad, Y_obs, phi_f, guess, eta=1e-3, tol=1e-6, pbar=None):\n",
    "    \"\"\"\n",
    "    grad - gradient function\n",
    "    w0 - initial guess (nx1 vector)\n",
    "    eta - step size\n",
    "    tol - convergence tolerance\n",
    "    \"\"\"\n",
    "    current_tol = 100\n",
    "    w_curr = np.copy(guess)\n",
    "    while current_tol > tol:\n",
    "        gradient = grad(Y_obs, phi_f, w_curr)\n",
    "        w_new = w_curr - eta * gradient\n",
    "        current_tol = np.linalg.norm(w_new - w_curr)\n",
    "        w_curr = np.copy(w_new)\n",
    "        w_new = None\n",
    "        pbar.update(1)\n",
    "        pbar.set_description_str(f'Current tol: {current_tol}')\n",
    "    return w_curr\n",
    "\n",
    "tol_log = tqdm.tqdm(position=0)\n",
    "w_best = gradient_descent(L_grad, Y_train, phi, w, eta=1e0, tol=1e-4, pbar=tol_log)"
   ]
  },
  {
   "cell_type": "markdown",
   "id": "static-albert",
   "metadata": {},
   "source": [
    "One very interesting result of working with image data is that we can interpret the learned parameters as images (the weight matrix is $N\\times (1+n)$.  If you get rid of the first entry, which corresponds to a constant offset, the remaining $N \\times n$ weights are each associated with a given input pixel for a given class).  Plot your weights as images (there should be ten of them).  Evaluate the pattern that you find.    "
   ]
  },
  {
   "cell_type": "code",
   "execution_count": 106,
   "id": "analyzed-adventure",
   "metadata": {},
   "outputs": [
    {
     "data": {
      "text/plain": "<Figure size 432x288 with 1 Axes>",
      "image/png": "[encoded data removed]"
     },
     "metadata": {
      "needs_background": "light"
     },
     "output_type": "display_data"
    }
   ],
   "source": [
    "plt.imshow(w_best[:, 1:])\n",
    "plt.show()\n"
   ]
  },
  {
   "cell_type": "code",
   "execution_count": 107,
   "outputs": [
    {
     "name": "stdout",
     "output_type": "stream",
     "text": [
      "Got 95.55% correct\n"
     ]
    }
   ],
   "source": [
    "phi_test = generate_phi(X_test)\n",
    "Y_pred = softmax(phi_test, w_best)\n",
    "\n",
    "m = Y_test.shape[0]\n",
    "successes = 0\n",
    "for i in range(Y_test.shape[0]-1):\n",
    "    guess = np.argmax(Y_pred[i, :])\n",
    "    target = np.argmax(Y_test[i, :])\n",
    "    if guess == target:\n",
    "        successes += 1\n",
    "print(f'Got {successes / m * 100:.2f}% correct')"
   ],
   "metadata": {
    "collapsed": false,
    "pycharm": {
     "name": "#%%\n"
    }
   }
  },
  {
   "cell_type": "markdown",
   "id": "comfortable-allergy",
   "metadata": {},
   "source": [
    "Finally, once this task is complete, scale your method up to the larger (in both number of instances and resolution) dataset MNIST (you can get it using the command sklearn.datasets.fetch_openml('mnist_784', version=1, return_X_y=True, as_frame=False)).  This will take substantial time to train!  Only do this once you are satisfied with your implementation on the digits dataset.  "
   ]
  },
  {
   "cell_type": "code",
   "execution_count": null,
   "id": "beautiful-jones",
   "metadata": {},
   "outputs": [],
   "source": []
  }
 ],
 "metadata": {
  "kernelspec": {
   "name": "python3",
   "language": "python",
   "display_name": "Python 3 (ipykernel)"
  },
  "language_info": {
   "codemirror_mode": {
    "name": "ipython",
    "version": 3
   },
   "file_extension": ".py",
   "mimetype": "text/x-python",
   "name": "python",
   "nbconvert_exporter": "python",
   "pygments_lexer": "ipython3",
   "version": "3.9.6"
  }
 },
 "nbformat": 4,
 "nbformat_minor": 5
}