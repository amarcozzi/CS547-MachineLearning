{
 "cells": [
  {
   "cell_type": "markdown",
   "id": "231343a2",
   "metadata": {},
   "source": [
    "# Group Members:\n",
    "Anthony Marcozzi\n",
    "\n",
    "Marie Johnson\n",
    "\n",
    "Nick Kitchel"
   ]
  },
  {
   "cell_type": "code",
   "execution_count": 1,
   "id": "c1ac1be5",
   "metadata": {},
   "outputs": [],
   "source": [
    "import tqdm\n",
    "import numpy as np\n",
    "import matplotlib.pyplot as plt"
   ]
  },
  {
   "cell_type": "markdown",
   "id": "compact-notice",
   "metadata": {},
   "source": [
    "# Softmax regression for handwritten digits\n",
    "\n",
    "Today, we'll implement a softmax classifier recognizing handwritten digits.  We'll begin by using a relatively small\n",
    "collection (around 1800) of low resolution (8 by 8pix) digits.  This can be easily acquired using scikit-learn."
   ]
  },
  {
   "cell_type": "code",
   "execution_count": 2,
   "id": "international-caution",
   "metadata": {},
   "outputs": [],
   "source": [
    "from sklearn.datasets import load_digits\n",
    "digits = load_digits()"
   ]
  },
  {
   "cell_type": "code",
   "execution_count": 3,
   "id": "84ad1adf",
   "metadata": {},
   "outputs": [
    {
     "data": {
      "image/png": "[encoded data removed]",
      "text/plain": [
       "<Figure size 432x288 with 2 Axes>"
      ]
     },
     "metadata": {
      "needs_background": "light"
     },
     "output_type": "display_data"
    }
   ],
   "source": [
    "data = digits.data\n",
    "random_digit = np.random.randint(low=0, high=1797, size=1)[0]\n",
    "plt.imshow(data[random_digit, :].reshape(8, 8), cmap='Greys')\n",
    "plt.colorbar()\n",
    "plt.title(f'Target: {digits.target[random_digit]}')\n",
    "plt.show()"
   ]
  },
  {
   "cell_type": "markdown",
   "id": "seven-gnome",
   "metadata": {},
   "source": [
    "The digits appear as an $m\\times n$ array, where $m$ is the number of data instances and $n$ is the number of features.\n",
    "It's important to recognize that for this problem, the number of features is $8\\times8 = 64$: the instances are\n",
    "flattened.  If you want to plot a digit from the dataset using, for example, matplotlib's imshow, you'll need to reshape\n",
    "this.\n",
    "\n",
    "You'll also want to be careful to normalize the data, preferably by subtracting the mean and dividing by the standard\n",
    "deviation."
   ]
  },
  {
   "cell_type": "code",
   "execution_count": 4,
   "id": "rotary-whole",
   "metadata": {},
   "outputs": [
    {
     "data": {
      "image/png": "[encoded data removed]",
      "text/plain": [
       "<Figure size 432x288 with 2 Axes>"
      ]
     },
     "metadata": {
      "needs_background": "light"
     },
     "output_type": "display_data"
    }
   ],
   "source": [
    "#! Perform normalization\n",
    "norm_data = ((data - data.mean()) / data.std())\n",
    "plt.imshow(norm_data[random_digit, :].reshape(8, 8), cmap='Greys')\n",
    "plt.colorbar()\n",
    "plt.title(f'Target: {digits.target[random_digit]}')\n",
    "plt.show()"
   ]
  },
  {
   "cell_type": "markdown",
   "id": "vocal-anthony",
   "metadata": {},
   "source": [
    "The labels appear as integers.  Write and apply a function that converts from this integer representation to a one-hot\n",
    "encoding."
   ]
  },
  {
   "cell_type": "code",
   "execution_count": 5,
   "id": "vietnamese-thesis",
   "metadata": {},
   "outputs": [],
   "source": [
    "#! Convert the labels to a one-hot encoding\n",
    "# Create an 1797 x 10 array to hold each digit's encoding\n",
    "encoding = np.zeros([digits.target.size, digits.target_names.size])\n",
    "\n",
    "# Loop over each image\n",
    "for i in range(digits.target.size):\n",
    "    encode_vec = np.zeros(digits.target_names.size)\n",
    "    t = digits.target[i]\n",
    "    encode_vec[digits.target_names[t]] = 1\n",
    "    encoding[i] = encode_vec\n"
   ]
  },
  {
   "cell_type": "markdown",
   "id": "nearby-wellington",
   "metadata": {},
   "source": [
    "Another important step is to split the dataset into training and testing sets.\n",
    "I like using the function sklearn.model_selection.train_test_split"
   ]
  },
  {
   "cell_type": "code",
   "execution_count": 6,
   "id": "systematic-camel",
   "metadata": {},
   "outputs": [],
   "source": [
    "#! Split the dataset into training and testing sets\n",
    "from sklearn.model_selection import train_test_split\n",
    "X_train, X_test, Y_train, Y_test = train_test_split(norm_data, encoding, test_size=0.25, random_state=42)"
   ]
  },
  {
   "cell_type": "markdown",
   "id": "dress-climate",
   "metadata": {},
   "source": [
    "With data in hand, we now need to implement the model.  Recall that our predictions will be computed as\n",
    "\n",
    "$$Y_{pred} = \\mathrm{Softmax}(\\Phi W)$$\n",
    "\n",
    "Implement the softmax method, generate the matrix $\\Phi$ (I suggest a linear model, which is to say that all you need to\n",
    "do will be to prepend a column of ones to the $m\\times n$ matrix of pixel values, and instantiate the parameter matrix\n",
    "$W$ (I suggest instantiating to an array of very small random numbers).  Your implementation of Softmax should be\n",
    "vectorized, in that it should take a $m \\times N$ array of logits and output and $m \\times N$ array without using a\n",
    "loop.  Make a prediction using this untrained model: a sensible result at this stage is that all classes are\n",
    "approximately equally likely."
   ]
  },
  {
   "cell_type": "code",
   "execution_count": 8,
   "id": "rental-capital",
   "metadata": {},
   "outputs": [
    {
     "name": "stdout",
     "output_type": "stream",
     "text": [
      "[1. 1. 1. ... 1. 1. 1.]\n"
     ]
    }
   ],
   "source": [
    "def generate_phi(X, d=1):\n",
    "    phi_matrix = np.column_stack([np.ones(X.shape[0]), X])\n",
    "    return phi_matrix\n",
    "\n",
    "phi = generate_phi(X_train)\n",
    "w = np.random.random([phi.shape[1], digits.target_names.size]) * 1e-2\n",
    "\n",
    "def softmax(phi_a, w_a):\n",
    "    z = phi_a @ w_a\n",
    "    numerator = np.exp(z)\n",
    "    denominator = np.sum(np.exp(z), axis=1)\n",
    "    return numerator / denominator.reshape(-1, 1)\n",
    "\n",
    "Y_pred = softmax(phi, w)\n",
    "test = np.sum(Y_pred, axis=1)\n",
    "print(test)"
   ]
  },
  {
   "cell_type": "markdown",
   "id": "raising-effectiveness",
   "metadata": {},
   "source": [
    "Now generate functions (or one function with multiple outputs) to compute the categorical cross entropy and its\n",
    "gradient.  These are given by\n",
    "\n",
    "$$\\mathcal{L}(W,\\Phi,Y_{obs}) = -\\frac{1}{mN} \\sum_{i=1}^m \\left(Y_{obs,i} \\ln \\mathrm{Softmax}(\\Phi W)\\right).$$\n",
    "\n",
    "and\n",
    "\n",
    "$$\\frac{ \\partial \\mathcal{L}}{\\partial W} = -\\frac{1}{mN} \\sum_{i=1}^m \\left[(Y_{obs,i} - \\mathrm{Softmax}(\\Phi W)_i) \\Phi_i^T\\right]^T. $$\n",
    "\n",
    "As you implement these functions, consider how to do so in as efficient a manner as possible.\n",
    "Note that it is possible to vectorize the sums."
   ]
  },
  {
   "cell_type": "code",
   "execution_count": 9,
   "id": "mighty-czech",
   "metadata": {},
   "outputs": [
    {
     "name": "stdout",
     "output_type": "stream",
     "text": [
      "[0.02324796 0.02446669 0.02335383 0.02349537 0.02165671 0.02115137\n",
      " 0.02318157 0.02352429 0.02354    0.02241654]\n",
      "(65, 10) (65, 10)\n"
     ]
    }
   ],
   "source": [
    "def L_func(Y_obs, phi_f, w_f):\n",
    "    inside = np.sum(Y_obs * np.log(softmax(phi_f, w_f)), axis=0)\n",
    "    return -inside / Y_obs.shape[0] / Y_obs.shape[1]\n",
    "\n",
    "def L_grad(Y_obs, phi_f, w_f):\n",
    "    S = softmax(phi_f, w_f)\n",
    "    first = np.transpose(Y_obs - S)\n",
    "    return -np.transpose(first @ phi_f) / Y_obs.shape[0] / Y_obs.shape[1]\n",
    "\n",
    "L = L_func(Y_train, phi, w)\n",
    "print(L)\n",
    "lgrad = L_grad(Y_train, phi, w)\n",
    "print(lgrad.shape, w.shape)"
   ]
  },
  {
   "cell_type": "markdown",
   "id": "selective-minority",
   "metadata": {},
   "source": [
    "Implement gradient descent and train this model.  Record the value of $\\mathcal{L}$ as a function of gradient descent\n",
    "iteration, and produce a plot convincing yourself that the model is converging to a minimum."
   ]
  },
  {
   "cell_type": "code",
   "execution_count": 10,
   "id": "premium-filing",
   "metadata": {},
   "outputs": [],
   "source": [
    "def gradient_descent(grad, Y_obs, phi_f, guess, eta=1e-3, tol=1e-6, pbar=None, pbar_update=3000):\n",
    "    \"\"\"\n",
    "    grad - gradient function\n",
    "    w0 - initial guess (nx1 vector)\n",
    "    eta - step size\n",
    "    tol - convergence tolerance\n",
    "    \"\"\"\n",
    "    tol_list = []\n",
    "    current_tol = 100\n",
    "    w_curr = guess\n",
    "    iters = 0\n",
    "    while current_tol > tol:\n",
    "        gradient = grad(Y_obs, phi_f, w_curr)\n",
    "        w_new = w_curr - eta * gradient\n",
    "        current_tol = np.linalg.norm(np.abs(w_new - w_curr))\n",
    "        tol_list.append(current_tol)\n",
    "        w_curr = w_new\n",
    "        pbar.update(1)\n",
    "        iters += 1\n",
    "        if iters % pbar_update == 0:\n",
    "            pbar.set_description_str(f'Current tol: {current_tol}')\n",
    "    return w_curr, tol_list"
   ]
  },
  {
   "cell_type": "code",
   "execution_count": 11,
   "id": "b7e839d0",
   "metadata": {},
   "outputs": [
    {
     "name": "stderr",
     "output_type": "stream",
     "text": [
      "1359it [00:00, 1952.41it/s]"
     ]
    },
    {
     "data": {
      "image/png": "[encoded data removed]",
      "text/plain": [
       "<Figure size 432x288 with 1 Axes>"
      ]
     },
     "metadata": {
      "needs_background": "light"
     },
     "output_type": "display_data"
    }
   ],
   "source": [
    "tol_log = tqdm.tqdm(position=0)\n",
    "w_best, tolerance_over_time = gradient_descent(L_grad, Y_train, phi, w, eta=1e-1, tol=1e-3, pbar=tol_log)\n",
    "plt.plot(tolerance_over_time)\n",
    "plt.xlabel('iterations')\n",
    "plt.ylabel('tolerance')\n",
    "plt.show()"
   ]
  },
  {
   "cell_type": "markdown",
   "id": "static-albert",
   "metadata": {},
   "source": [
    "One very interesting result of working with image data is that we can interpret the learned parameters as images (the weight matrix is $N\\times (1+n)$.  If you get rid of the first entry, which corresponds to a constant offset, the remaining $N \\times n$ weights are each associated with a given input pixel for a given class).  Plot your weights as images (there should be ten of them).  Evaluate the pattern that you find.    "
   ]
  },
  {
   "cell_type": "code",
   "execution_count": 12,
   "id": "analyzed-adventure",
   "metadata": {},
   "outputs": [
    {
     "data": {
      "image/png": "[encoded data removed]",
      "text/plain": [
       "<Figure size 720x576 with 1 Axes>"
      ]
     },
     "metadata": {
      "needs_background": "light"
     },
     "output_type": "display_data"
    }
   ],
   "source": [
    "fig, ax = plt.subplots(figsize=(10, 8))\n",
    "ax.imshow(w_best[1:, 7].reshape(8, 8))\n",
    "plt.show()"
   ]
  },
  {
   "cell_type": "code",
   "execution_count": 13,
   "id": "02342ffa",
   "metadata": {
    "pycharm": {
     "name": "#%%\n"
    }
   },
   "outputs": [
    {
     "name": "stdout",
     "output_type": "stream",
     "text": [
      "Got 95.11% correct\n"
     ]
    }
   ],
   "source": [
    "phi_test = generate_phi(X_test)\n",
    "Y_pred = softmax(phi_test, w_best)\n",
    "\n",
    "m = Y_test.shape[0]\n",
    "successes = 0\n",
    "for i in range(Y_test.shape[0]-1):\n",
    "    guess = np.argmax(Y_pred[i, :])\n",
    "    target = np.argmax(Y_test[i, :])\n",
    "    if guess == target:\n",
    "        successes += 1\n",
    "print(f'Got {successes / m * 100:.2f}% correct')"
   ]
  },
  {
   "cell_type": "markdown",
   "id": "comfortable-allergy",
   "metadata": {},
   "source": [
    "Finally, once this task is complete, scale your method up to the larger (in both number of instances and resolution) dataset MNIST (you can get it using the command sklearn.datasets.fetch_openml('mnist_784', version=1, return_X_y=True, as_frame=False)).  This will take substantial time to train!  Only do this once you are satisfied with your implementation on the digits dataset.  "
   ]
  },
  {
   "cell_type": "code",
   "execution_count": 14,
   "id": "ef420bfa",
   "metadata": {},
   "outputs": [
    {
     "name": "stderr",
     "output_type": "stream",
     "text": [
      "\r",
      "1466it [00:20, 1952.41it/s]"
     ]
    }
   ],
   "source": [
    "import sklearn.datasets\n",
    "mnist = sklearn.datasets.fetch_openml('mnist_784', version=1, as_frame=False)"
   ]
  },
  {
   "cell_type": "code",
   "execution_count": 15,
   "id": "4dd0abec",
   "metadata": {},
   "outputs": [],
   "source": [
    "data = mnist.data\n",
    "#! Perform normalization\n",
    "norm_data = ((data - data.mean()) / data.std())\n",
    "\n",
    "#! Convert the labels to a one-hot encoding\n",
    "encoding = np.zeros([mnist.target.size, 10])\n",
    "\n",
    "# Loop over each image\n",
    "for i in range(mnist.target.size):\n",
    "    encode_vec = np.zeros(10)\n",
    "    t = int(mnist.target[i])\n",
    "    encode_vec[t] = 1\n",
    "    encoding[i] = encode_vec\n",
    "    \n",
    "#! Split the dataset into training and testing sets\n",
    "from sklearn.model_selection import train_test_split\n",
    "X_train, X_test, Y_train, Y_test = train_test_split(norm_data, encoding, test_size=0.25, random_state=42)\n",
    "\n",
    "# Generate phi and w\n",
    "phi = generate_phi(X_train)\n",
    "w = np.random.random([phi.shape[1], digits.target_names.size]) * 1e-2"
   ]
  },
  {
   "cell_type": "code",
   "execution_count": 16,
   "id": "d3741217",
   "metadata": {},
   "outputs": [
    {
     "name": "stderr",
     "output_type": "stream",
     "text": [
      "1466it [00:22, 64.34it/s]  \n",
      "Current tol: 0.01203645081175703: 64it [00:10,  5.85it/s]"
     ]
    },
    {
     "data": {
      "image/png": "[encoded data removed]",
      "text/plain": [
       "<Figure size 432x288 with 1 Axes>"
      ]
     },
     "metadata": {
      "needs_background": "light"
     },
     "output_type": "display_data"
    }
   ],
   "source": [
    "# Perform gradient descent to optimize w\n",
    "tol_log = tqdm.tqdm(position=0)\n",
    "w_best, tolerance_over_time = gradient_descent(L_grad, Y_train, phi, w, eta=1e0, tol=1e-2, pbar=tol_log, pbar_update=50)\n",
    "plt.plot(tolerance_over_time)\n",
    "plt.xlabel('iterations')\n",
    "plt.ylabel('tolerance')\n",
    "plt.show()"
   ]
  },
  {
   "cell_type": "code",
   "execution_count": 1,
   "id": "8460c875",
   "metadata": {},
   "outputs": [
    {
     "ename": "NameError",
     "evalue": "name 'plt' is not defined",
     "output_type": "error",
     "traceback": [
      "\u001b[0;31m---------------------------------------------------------------------------\u001b[0m",
      "\u001b[0;31mNameError\u001b[0m                                 Traceback (most recent call last)",
      "\u001b[0;32m/var/folders/rk/jmwfy6gs5133_fvvr02b6t040000gn/T/ipykernel_1720/4061206865.py\u001b[0m in \u001b[0;36m<module>\u001b[0;34m\u001b[0m\n\u001b[0;32m----> 1\u001b[0;31m \u001b[0mfig\u001b[0m\u001b[0;34m,\u001b[0m \u001b[0max\u001b[0m \u001b[0;34m=\u001b[0m \u001b[0mplt\u001b[0m\u001b[0;34m.\u001b[0m\u001b[0msubplots\u001b[0m\u001b[0;34m(\u001b[0m\u001b[0mfigsize\u001b[0m\u001b[0;34m=\u001b[0m\u001b[0;34m(\u001b[0m\u001b[0;36m10\u001b[0m\u001b[0;34m,\u001b[0m \u001b[0;36m8\u001b[0m\u001b[0;34m)\u001b[0m\u001b[0;34m)\u001b[0m\u001b[0;34m\u001b[0m\u001b[0;34m\u001b[0m\u001b[0m\n\u001b[0m\u001b[1;32m      2\u001b[0m \u001b[0max\u001b[0m\u001b[0;34m.\u001b[0m\u001b[0mimshow\u001b[0m\u001b[0;34m(\u001b[0m\u001b[0mw_best\u001b[0m\u001b[0;34m[\u001b[0m\u001b[0;36m1\u001b[0m\u001b[0;34m:\u001b[0m\u001b[0;34m,\u001b[0m \u001b[0;36m1\u001b[0m\u001b[0;34m]\u001b[0m\u001b[0;34m.\u001b[0m\u001b[0mreshape\u001b[0m\u001b[0;34m(\u001b[0m\u001b[0;36m28\u001b[0m\u001b[0;34m,\u001b[0m \u001b[0;36m28\u001b[0m\u001b[0;34m)\u001b[0m\u001b[0;34m)\u001b[0m\u001b[0;34m\u001b[0m\u001b[0;34m\u001b[0m\u001b[0m\n\u001b[1;32m      3\u001b[0m \u001b[0mplt\u001b[0m\u001b[0;34m.\u001b[0m\u001b[0mshow\u001b[0m\u001b[0;34m(\u001b[0m\u001b[0;34m)\u001b[0m\u001b[0;34m\u001b[0m\u001b[0;34m\u001b[0m\u001b[0m\n",
      "\u001b[0;31mNameError\u001b[0m: name 'plt' is not defined"
     ]
    }
   ],
   "source": [
    "fig, ax = plt.subplots(figsize=(10, 8))\n",
    "ax.imshow(w_best[1:, 1].reshape(28, 28))\n",
    "plt.show()"
   ]
  },
  {
   "cell_type": "code",
   "execution_count": 18,
   "id": "f8984e7e",
   "metadata": {},
   "outputs": [
    {
     "name": "stdout",
     "output_type": "stream",
     "text": [
      "Got 89.99% correct\n"
     ]
    }
   ],
   "source": [
    "phi_test = generate_phi(X_test)\n",
    "Y_pred = softmax(phi_test, w_best)\n",
    "\n",
    "m = Y_test.shape[0]\n",
    "successes = 0\n",
    "for i in range(Y_test.shape[0]-1):\n",
    "    guess = np.argmax(Y_pred[i, :])\n",
    "    target = np.argmax(Y_test[i, :])\n",
    "    if guess == target:\n",
    "        successes += 1\n",
    "print(f'Got {successes / m * 100:.2f}% correct')"
   ]
  },
  {
   "cell_type": "code",
   "execution_count": null,
   "id": "63403cc3",
   "metadata": {},
   "outputs": [],
   "source": []
  }
 ],
 "metadata": {
  "kernelspec": {
   "display_name": "Python 3 (ipykernel)",
   "language": "python",
   "name": "python3"
  },
  "language_info": {
   "codemirror_mode": {
    "name": "ipython",
    "version": 3
   },
   "file_extension": ".py",
   "mimetype": "text/x-python",
   "name": "python",
   "nbconvert_exporter": "python",
   "pygments_lexer": "ipython3",
   "version": "3.7.9"
  }
 },
 "nbformat": 4,
 "nbformat_minor": 5
}
